{
 "cells": [
  {
   "cell_type": "code",
   "execution_count": 1,
   "id": "dac7842a",
   "metadata": {},
   "outputs": [],
   "source": [
    "# According to World Happiness Report in 2021, Korea shows low ladder score of happiness compare to other country with high GDP rank.\n",
    "# We wondered why Korea is not so happy according to the report. And we want to know if we can be more happier.\n",
    "# So we decided to analyze how and what variables are being used to calculate our happiness."
   ]
  },
  {
   "cell_type": "code",
   "execution_count": 2,
   "id": "d5766bdd",
   "metadata": {},
   "outputs": [],
   "source": [
    "import numpy as np\n",
    "import pandas as pd\n",
    "import seaborn as sns\n",
    "import matplotlib.pyplot as plt"
   ]
  },
  {
   "cell_type": "code",
   "execution_count": 3,
   "id": "973014c0",
   "metadata": {
    "scrolled": false
   },
   "outputs": [
    {
     "data": {
      "text/html": [
       "<div>\n",
       "<style scoped>\n",
       "    .dataframe tbody tr th:only-of-type {\n",
       "        vertical-align: middle;\n",
       "    }\n",
       "\n",
       "    .dataframe tbody tr th {\n",
       "        vertical-align: top;\n",
       "    }\n",
       "\n",
       "    .dataframe thead th {\n",
       "        text-align: right;\n",
       "    }\n",
       "</style>\n",
       "<table border=\"1\" class=\"dataframe\">\n",
       "  <thead>\n",
       "    <tr style=\"text-align: right;\">\n",
       "      <th></th>\n",
       "      <th>Country name</th>\n",
       "      <th>Regional indicator</th>\n",
       "      <th>Ladder score</th>\n",
       "      <th>Standard error of ladder score</th>\n",
       "      <th>upperwhisker</th>\n",
       "      <th>lowerwhisker</th>\n",
       "      <th>Logged GDP per capita</th>\n",
       "      <th>Social support</th>\n",
       "      <th>Healthy life expectancy</th>\n",
       "      <th>Freedom to make life choices</th>\n",
       "      <th>Generosity</th>\n",
       "      <th>Perceptions of corruption</th>\n",
       "      <th>Ladder score in Dystopia</th>\n",
       "      <th>Explained by: Log GDP per capita</th>\n",
       "      <th>Explained by: Social support</th>\n",
       "      <th>Explained by: Healthy life expectancy</th>\n",
       "      <th>Explained by: Freedom to make life choices</th>\n",
       "      <th>Explained by: Generosity</th>\n",
       "      <th>Explained by: Perceptions of corruption</th>\n",
       "      <th>Dystopia + residual</th>\n",
       "    </tr>\n",
       "  </thead>\n",
       "  <tbody>\n",
       "    <tr>\n",
       "      <th>0</th>\n",
       "      <td>Finland</td>\n",
       "      <td>Western Europe</td>\n",
       "      <td>7.842</td>\n",
       "      <td>0.032</td>\n",
       "      <td>7.904</td>\n",
       "      <td>7.780</td>\n",
       "      <td>10.775</td>\n",
       "      <td>0.954</td>\n",
       "      <td>72.000</td>\n",
       "      <td>0.949</td>\n",
       "      <td>-0.098</td>\n",
       "      <td>0.186</td>\n",
       "      <td>2.43</td>\n",
       "      <td>1.446</td>\n",
       "      <td>1.106</td>\n",
       "      <td>0.741</td>\n",
       "      <td>0.691</td>\n",
       "      <td>0.124</td>\n",
       "      <td>0.481</td>\n",
       "      <td>3.253</td>\n",
       "    </tr>\n",
       "    <tr>\n",
       "      <th>1</th>\n",
       "      <td>Denmark</td>\n",
       "      <td>Western Europe</td>\n",
       "      <td>7.620</td>\n",
       "      <td>0.035</td>\n",
       "      <td>7.687</td>\n",
       "      <td>7.552</td>\n",
       "      <td>10.933</td>\n",
       "      <td>0.954</td>\n",
       "      <td>72.700</td>\n",
       "      <td>0.946</td>\n",
       "      <td>0.030</td>\n",
       "      <td>0.179</td>\n",
       "      <td>2.43</td>\n",
       "      <td>1.502</td>\n",
       "      <td>1.108</td>\n",
       "      <td>0.763</td>\n",
       "      <td>0.686</td>\n",
       "      <td>0.208</td>\n",
       "      <td>0.485</td>\n",
       "      <td>2.868</td>\n",
       "    </tr>\n",
       "    <tr>\n",
       "      <th>2</th>\n",
       "      <td>Switzerland</td>\n",
       "      <td>Western Europe</td>\n",
       "      <td>7.571</td>\n",
       "      <td>0.036</td>\n",
       "      <td>7.643</td>\n",
       "      <td>7.500</td>\n",
       "      <td>11.117</td>\n",
       "      <td>0.942</td>\n",
       "      <td>74.400</td>\n",
       "      <td>0.919</td>\n",
       "      <td>0.025</td>\n",
       "      <td>0.292</td>\n",
       "      <td>2.43</td>\n",
       "      <td>1.566</td>\n",
       "      <td>1.079</td>\n",
       "      <td>0.816</td>\n",
       "      <td>0.653</td>\n",
       "      <td>0.204</td>\n",
       "      <td>0.413</td>\n",
       "      <td>2.839</td>\n",
       "    </tr>\n",
       "    <tr>\n",
       "      <th>3</th>\n",
       "      <td>Iceland</td>\n",
       "      <td>Western Europe</td>\n",
       "      <td>7.554</td>\n",
       "      <td>0.059</td>\n",
       "      <td>7.670</td>\n",
       "      <td>7.438</td>\n",
       "      <td>10.878</td>\n",
       "      <td>0.983</td>\n",
       "      <td>73.000</td>\n",
       "      <td>0.955</td>\n",
       "      <td>0.160</td>\n",
       "      <td>0.673</td>\n",
       "      <td>2.43</td>\n",
       "      <td>1.482</td>\n",
       "      <td>1.172</td>\n",
       "      <td>0.772</td>\n",
       "      <td>0.698</td>\n",
       "      <td>0.293</td>\n",
       "      <td>0.170</td>\n",
       "      <td>2.967</td>\n",
       "    </tr>\n",
       "    <tr>\n",
       "      <th>4</th>\n",
       "      <td>Netherlands</td>\n",
       "      <td>Western Europe</td>\n",
       "      <td>7.464</td>\n",
       "      <td>0.027</td>\n",
       "      <td>7.518</td>\n",
       "      <td>7.410</td>\n",
       "      <td>10.932</td>\n",
       "      <td>0.942</td>\n",
       "      <td>72.400</td>\n",
       "      <td>0.913</td>\n",
       "      <td>0.175</td>\n",
       "      <td>0.338</td>\n",
       "      <td>2.43</td>\n",
       "      <td>1.501</td>\n",
       "      <td>1.079</td>\n",
       "      <td>0.753</td>\n",
       "      <td>0.647</td>\n",
       "      <td>0.302</td>\n",
       "      <td>0.384</td>\n",
       "      <td>2.798</td>\n",
       "    </tr>\n",
       "    <tr>\n",
       "      <th>...</th>\n",
       "      <td>...</td>\n",
       "      <td>...</td>\n",
       "      <td>...</td>\n",
       "      <td>...</td>\n",
       "      <td>...</td>\n",
       "      <td>...</td>\n",
       "      <td>...</td>\n",
       "      <td>...</td>\n",
       "      <td>...</td>\n",
       "      <td>...</td>\n",
       "      <td>...</td>\n",
       "      <td>...</td>\n",
       "      <td>...</td>\n",
       "      <td>...</td>\n",
       "      <td>...</td>\n",
       "      <td>...</td>\n",
       "      <td>...</td>\n",
       "      <td>...</td>\n",
       "      <td>...</td>\n",
       "      <td>...</td>\n",
       "    </tr>\n",
       "    <tr>\n",
       "      <th>144</th>\n",
       "      <td>Lesotho</td>\n",
       "      <td>Sub-Saharan Africa</td>\n",
       "      <td>3.512</td>\n",
       "      <td>0.120</td>\n",
       "      <td>3.748</td>\n",
       "      <td>3.276</td>\n",
       "      <td>7.926</td>\n",
       "      <td>0.787</td>\n",
       "      <td>48.700</td>\n",
       "      <td>0.715</td>\n",
       "      <td>-0.131</td>\n",
       "      <td>0.915</td>\n",
       "      <td>2.43</td>\n",
       "      <td>0.451</td>\n",
       "      <td>0.731</td>\n",
       "      <td>0.007</td>\n",
       "      <td>0.405</td>\n",
       "      <td>0.103</td>\n",
       "      <td>0.015</td>\n",
       "      <td>1.800</td>\n",
       "    </tr>\n",
       "    <tr>\n",
       "      <th>145</th>\n",
       "      <td>Botswana</td>\n",
       "      <td>Sub-Saharan Africa</td>\n",
       "      <td>3.467</td>\n",
       "      <td>0.074</td>\n",
       "      <td>3.611</td>\n",
       "      <td>3.322</td>\n",
       "      <td>9.782</td>\n",
       "      <td>0.784</td>\n",
       "      <td>59.269</td>\n",
       "      <td>0.824</td>\n",
       "      <td>-0.246</td>\n",
       "      <td>0.801</td>\n",
       "      <td>2.43</td>\n",
       "      <td>1.099</td>\n",
       "      <td>0.724</td>\n",
       "      <td>0.340</td>\n",
       "      <td>0.539</td>\n",
       "      <td>0.027</td>\n",
       "      <td>0.088</td>\n",
       "      <td>0.648</td>\n",
       "    </tr>\n",
       "    <tr>\n",
       "      <th>146</th>\n",
       "      <td>Rwanda</td>\n",
       "      <td>Sub-Saharan Africa</td>\n",
       "      <td>3.415</td>\n",
       "      <td>0.068</td>\n",
       "      <td>3.548</td>\n",
       "      <td>3.282</td>\n",
       "      <td>7.676</td>\n",
       "      <td>0.552</td>\n",
       "      <td>61.400</td>\n",
       "      <td>0.897</td>\n",
       "      <td>0.061</td>\n",
       "      <td>0.167</td>\n",
       "      <td>2.43</td>\n",
       "      <td>0.364</td>\n",
       "      <td>0.202</td>\n",
       "      <td>0.407</td>\n",
       "      <td>0.627</td>\n",
       "      <td>0.227</td>\n",
       "      <td>0.493</td>\n",
       "      <td>1.095</td>\n",
       "    </tr>\n",
       "    <tr>\n",
       "      <th>147</th>\n",
       "      <td>Zimbabwe</td>\n",
       "      <td>Sub-Saharan Africa</td>\n",
       "      <td>3.145</td>\n",
       "      <td>0.058</td>\n",
       "      <td>3.259</td>\n",
       "      <td>3.030</td>\n",
       "      <td>7.943</td>\n",
       "      <td>0.750</td>\n",
       "      <td>56.201</td>\n",
       "      <td>0.677</td>\n",
       "      <td>-0.047</td>\n",
       "      <td>0.821</td>\n",
       "      <td>2.43</td>\n",
       "      <td>0.457</td>\n",
       "      <td>0.649</td>\n",
       "      <td>0.243</td>\n",
       "      <td>0.359</td>\n",
       "      <td>0.157</td>\n",
       "      <td>0.075</td>\n",
       "      <td>1.205</td>\n",
       "    </tr>\n",
       "    <tr>\n",
       "      <th>148</th>\n",
       "      <td>Afghanistan</td>\n",
       "      <td>South Asia</td>\n",
       "      <td>2.523</td>\n",
       "      <td>0.038</td>\n",
       "      <td>2.596</td>\n",
       "      <td>2.449</td>\n",
       "      <td>7.695</td>\n",
       "      <td>0.463</td>\n",
       "      <td>52.493</td>\n",
       "      <td>0.382</td>\n",
       "      <td>-0.102</td>\n",
       "      <td>0.924</td>\n",
       "      <td>2.43</td>\n",
       "      <td>0.370</td>\n",
       "      <td>0.000</td>\n",
       "      <td>0.126</td>\n",
       "      <td>0.000</td>\n",
       "      <td>0.122</td>\n",
       "      <td>0.010</td>\n",
       "      <td>1.895</td>\n",
       "    </tr>\n",
       "  </tbody>\n",
       "</table>\n",
       "<p>149 rows × 20 columns</p>\n",
       "</div>"
      ],
      "text/plain": [
       "    Country name  Regional indicator  Ladder score  \\\n",
       "0        Finland      Western Europe         7.842   \n",
       "1        Denmark      Western Europe         7.620   \n",
       "2    Switzerland      Western Europe         7.571   \n",
       "3        Iceland      Western Europe         7.554   \n",
       "4    Netherlands      Western Europe         7.464   \n",
       "..           ...                 ...           ...   \n",
       "144      Lesotho  Sub-Saharan Africa         3.512   \n",
       "145     Botswana  Sub-Saharan Africa         3.467   \n",
       "146       Rwanda  Sub-Saharan Africa         3.415   \n",
       "147     Zimbabwe  Sub-Saharan Africa         3.145   \n",
       "148  Afghanistan          South Asia         2.523   \n",
       "\n",
       "     Standard error of ladder score  upperwhisker  lowerwhisker  \\\n",
       "0                             0.032         7.904         7.780   \n",
       "1                             0.035         7.687         7.552   \n",
       "2                             0.036         7.643         7.500   \n",
       "3                             0.059         7.670         7.438   \n",
       "4                             0.027         7.518         7.410   \n",
       "..                              ...           ...           ...   \n",
       "144                           0.120         3.748         3.276   \n",
       "145                           0.074         3.611         3.322   \n",
       "146                           0.068         3.548         3.282   \n",
       "147                           0.058         3.259         3.030   \n",
       "148                           0.038         2.596         2.449   \n",
       "\n",
       "     Logged GDP per capita  Social support  Healthy life expectancy  \\\n",
       "0                   10.775           0.954                   72.000   \n",
       "1                   10.933           0.954                   72.700   \n",
       "2                   11.117           0.942                   74.400   \n",
       "3                   10.878           0.983                   73.000   \n",
       "4                   10.932           0.942                   72.400   \n",
       "..                     ...             ...                      ...   \n",
       "144                  7.926           0.787                   48.700   \n",
       "145                  9.782           0.784                   59.269   \n",
       "146                  7.676           0.552                   61.400   \n",
       "147                  7.943           0.750                   56.201   \n",
       "148                  7.695           0.463                   52.493   \n",
       "\n",
       "     Freedom to make life choices  Generosity  Perceptions of corruption  \\\n",
       "0                           0.949      -0.098                      0.186   \n",
       "1                           0.946       0.030                      0.179   \n",
       "2                           0.919       0.025                      0.292   \n",
       "3                           0.955       0.160                      0.673   \n",
       "4                           0.913       0.175                      0.338   \n",
       "..                            ...         ...                        ...   \n",
       "144                         0.715      -0.131                      0.915   \n",
       "145                         0.824      -0.246                      0.801   \n",
       "146                         0.897       0.061                      0.167   \n",
       "147                         0.677      -0.047                      0.821   \n",
       "148                         0.382      -0.102                      0.924   \n",
       "\n",
       "     Ladder score in Dystopia  Explained by: Log GDP per capita  \\\n",
       "0                        2.43                             1.446   \n",
       "1                        2.43                             1.502   \n",
       "2                        2.43                             1.566   \n",
       "3                        2.43                             1.482   \n",
       "4                        2.43                             1.501   \n",
       "..                        ...                               ...   \n",
       "144                      2.43                             0.451   \n",
       "145                      2.43                             1.099   \n",
       "146                      2.43                             0.364   \n",
       "147                      2.43                             0.457   \n",
       "148                      2.43                             0.370   \n",
       "\n",
       "     Explained by: Social support  Explained by: Healthy life expectancy  \\\n",
       "0                           1.106                                  0.741   \n",
       "1                           1.108                                  0.763   \n",
       "2                           1.079                                  0.816   \n",
       "3                           1.172                                  0.772   \n",
       "4                           1.079                                  0.753   \n",
       "..                            ...                                    ...   \n",
       "144                         0.731                                  0.007   \n",
       "145                         0.724                                  0.340   \n",
       "146                         0.202                                  0.407   \n",
       "147                         0.649                                  0.243   \n",
       "148                         0.000                                  0.126   \n",
       "\n",
       "     Explained by: Freedom to make life choices  Explained by: Generosity  \\\n",
       "0                                         0.691                     0.124   \n",
       "1                                         0.686                     0.208   \n",
       "2                                         0.653                     0.204   \n",
       "3                                         0.698                     0.293   \n",
       "4                                         0.647                     0.302   \n",
       "..                                          ...                       ...   \n",
       "144                                       0.405                     0.103   \n",
       "145                                       0.539                     0.027   \n",
       "146                                       0.627                     0.227   \n",
       "147                                       0.359                     0.157   \n",
       "148                                       0.000                     0.122   \n",
       "\n",
       "     Explained by: Perceptions of corruption  Dystopia + residual  \n",
       "0                                      0.481                3.253  \n",
       "1                                      0.485                2.868  \n",
       "2                                      0.413                2.839  \n",
       "3                                      0.170                2.967  \n",
       "4                                      0.384                2.798  \n",
       "..                                       ...                  ...  \n",
       "144                                    0.015                1.800  \n",
       "145                                    0.088                0.648  \n",
       "146                                    0.493                1.095  \n",
       "147                                    0.075                1.205  \n",
       "148                                    0.010                1.895  \n",
       "\n",
       "[149 rows x 20 columns]"
      ]
     },
     "execution_count": 3,
     "metadata": {},
     "output_type": "execute_result"
    }
   ],
   "source": [
    "report=pd.read_csv('world-happiness-report-2021.csv')\n",
    "report # print all array"
   ]
  },
  {
   "cell_type": "code",
   "execution_count": 4,
   "id": "efce3be9",
   "metadata": {},
   "outputs": [
    {
     "data": {
      "text/plain": [
       "(149, 20)"
      ]
     },
     "execution_count": 4,
     "metadata": {},
     "output_type": "execute_result"
    }
   ],
   "source": [
    "report.shape #show shape of the array"
   ]
  },
  {
   "cell_type": "code",
   "execution_count": 5,
   "id": "76a7c2d2",
   "metadata": {},
   "outputs": [
    {
     "data": {
      "text/plain": [
       "RangeIndex(start=0, stop=149, step=1)"
      ]
     },
     "execution_count": 5,
     "metadata": {},
     "output_type": "execute_result"
    }
   ],
   "source": [
    "report.index #show index"
   ]
  },
  {
   "cell_type": "code",
   "execution_count": 6,
   "id": "a0c40600",
   "metadata": {},
   "outputs": [
    {
     "data": {
      "text/plain": [
       "Index(['Country name', 'Regional indicator', 'Ladder score',\n",
       "       'Standard error of ladder score', 'upperwhisker', 'lowerwhisker',\n",
       "       'Logged GDP per capita', 'Social support', 'Healthy life expectancy',\n",
       "       'Freedom to make life choices', 'Generosity',\n",
       "       'Perceptions of corruption', 'Ladder score in Dystopia',\n",
       "       'Explained by: Log GDP per capita', 'Explained by: Social support',\n",
       "       'Explained by: Healthy life expectancy',\n",
       "       'Explained by: Freedom to make life choices',\n",
       "       'Explained by: Generosity', 'Explained by: Perceptions of corruption',\n",
       "       'Dystopia + residual'],\n",
       "      dtype='object')"
      ]
     },
     "execution_count": 6,
     "metadata": {},
     "output_type": "execute_result"
    }
   ],
   "source": [
    "report.columns #show all column\n",
    "#Ladder score is a same as happiness score\n",
    "#upperwhisker,lowerwhisker is happiness score's whisker\n",
    "#Dystopia+residual is how people feel bad about their future"
   ]
  },
  {
   "cell_type": "code",
   "execution_count": 7,
   "id": "c2c8913e",
   "metadata": {},
   "outputs": [
    {
     "data": {
      "text/plain": [
       "Country name                                  0\n",
       "Regional indicator                            0\n",
       "Ladder score                                  0\n",
       "Standard error of ladder score                0\n",
       "upperwhisker                                  0\n",
       "lowerwhisker                                  0\n",
       "Logged GDP per capita                         0\n",
       "Social support                                0\n",
       "Healthy life expectancy                       0\n",
       "Freedom to make life choices                  0\n",
       "Generosity                                    0\n",
       "Perceptions of corruption                     0\n",
       "Ladder score in Dystopia                      0\n",
       "Explained by: Log GDP per capita              0\n",
       "Explained by: Social support                  0\n",
       "Explained by: Healthy life expectancy         0\n",
       "Explained by: Freedom to make life choices    0\n",
       "Explained by: Generosity                      0\n",
       "Explained by: Perceptions of corruption       0\n",
       "Dystopia + residual                           0\n",
       "dtype: int64"
      ]
     },
     "execution_count": 7,
     "metadata": {},
     "output_type": "execute_result"
    }
   ],
   "source": [
    "#check missing values\n",
    "report.isna().sum()"
   ]
  },
  {
   "cell_type": "code",
   "execution_count": 8,
   "id": "10c0980a",
   "metadata": {},
   "outputs": [
    {
     "data": {
      "text/plain": [
       "Nepal         1\n",
       "Costa Rica    1\n",
       "China         1\n",
       "Sweden        1\n",
       "Uruguay       1\n",
       "             ..\n",
       "Latvia        1\n",
       "Italy         1\n",
       "Croatia       1\n",
       "Lesotho       1\n",
       "Bahrain       1\n",
       "Name: Country name, Length: 149, dtype: int64"
      ]
     },
     "execution_count": 8,
     "metadata": {},
     "output_type": "execute_result"
    }
   ],
   "source": [
    "#amount of contries\n",
    "report['Country name'].value_counts()"
   ]
  },
  {
   "cell_type": "code",
   "execution_count": 9,
   "id": "9c6e9cb4",
   "metadata": {},
   "outputs": [],
   "source": [
    "from sklearn import linear_model"
   ]
  },
  {
   "cell_type": "code",
   "execution_count": 10,
   "id": "1e3dfaf3",
   "metadata": {},
   "outputs": [
    {
     "data": {
      "text/plain": [
       "<seaborn.axisgrid.FacetGrid at 0x2138958bbe0>"
      ]
     },
     "execution_count": 10,
     "metadata": {},
     "output_type": "execute_result"
    },
    {
     "data": {
      "image/png": "[encoded data removed]",
      "text/plain": [
       "<Figure size 216x2160 with 10 Axes>"
      ]
     },
     "metadata": {
      "needs_background": "light"
     },
     "output_type": "display_data"
    }
   ],
   "source": [
    "g=sns.FacetGrid(report,col='Regional indicator',col_wrap=1)#show Graph between country of each region and ladder score\n",
    "g.map(sns.scatterplot,'Country name','Ladder score')\n",
    "g.set(xticklabels=[])"
   ]
  },
  {
   "cell_type": "code",
   "execution_count": 11,
   "id": "e11b7291",
   "metadata": {
    "scrolled": true
   },
   "outputs": [
    {
     "data": {
      "image/png": "[encoded data removed]",
      "text/plain": [
       "<Figure size 432x288 with 1 Axes>"
      ]
     },
     "metadata": {
      "needs_background": "light"
     },
     "output_type": "display_data"
    }
   ],
   "source": [
    "x=report.loc[:,'Ladder score']#The correlation between ladder score and Logged GDP per capita\n",
    "y=report.loc[:,'Logged GDP per capita']\n",
    "plt.scatter(x,y)\n",
    "plt.xlabel('Ladder score')\n",
    "plt.ylabel('Logged GDP per capita')\n",
    "plt.show()"
   ]
  },
  {
   "cell_type": "code",
   "execution_count": 12,
   "id": "4faf5ae8",
   "metadata": {},
   "outputs": [
    {
     "data": {
      "image/png": "[encoded data removed]",
      "text/plain": [
       "<Figure size 432x288 with 1 Axes>"
      ]
     },
     "metadata": {
      "needs_background": "light"
     },
     "output_type": "display_data"
    }
   ],
   "source": [
    "x=report.loc[:,'Ladder score']#The correlation between ladder score and Sccial support\n",
    "y=report.loc[:,'Social support']\n",
    "plt.scatter(x,y)\n",
    "plt.xlabel('Ladder score')\n",
    "plt.ylabel('Social support')\n",
    "plt.show()"
   ]
  },
  {
   "cell_type": "code",
   "execution_count": 13,
   "id": "f35d8719",
   "metadata": {},
   "outputs": [
    {
     "data": {
      "image/png": "[encoded data removed]",
      "text/plain": [
       "<Figure size 432x288 with 1 Axes>"
      ]
     },
     "metadata": {
      "needs_background": "light"
     },
     "output_type": "display_data"
    }
   ],
   "source": [
    "x=report.loc[:,'Ladder score']#The correlation between ladder score and Healthy life expectancy\n",
    "y=report.loc[:,'Healthy life expectancy']\n",
    "plt.scatter(x,y)\n",
    "plt.xlabel('Ladder score')\n",
    "plt.ylabel('Healthy life expectancy')\n",
    "plt.show()"
   ]
  },
  {
   "cell_type": "code",
   "execution_count": 14,
   "id": "d494873a",
   "metadata": {},
   "outputs": [
    {
     "data": {
      "image/png": "[encoded data removed]",
      "text/plain": [
       "<Figure size 432x288 with 1 Axes>"
      ]
     },
     "metadata": {
      "needs_background": "light"
     },
     "output_type": "display_data"
    }
   ],
   "source": [
    "x=report.loc[:,'Ladder score']#The correlation between ladder score and Freedom to make life choices\n",
    "y=report.loc[:,'Freedom to make life choices']\n",
    "plt.scatter(x,y)\n",
    "plt.xlabel('Ladder score')\n",
    "plt.ylabel('Freedom to make life choices')\n",
    "plt.show()"
   ]
  },
  {
   "cell_type": "code",
   "execution_count": 15,
   "id": "0aa925c2",
   "metadata": {},
   "outputs": [
    {
     "data": {
      "image/png": "[encoded data removed]",
      "text/plain": [
       "<Figure size 432x288 with 1 Axes>"
      ]
     },
     "metadata": {
      "needs_background": "light"
     },
     "output_type": "display_data"
    }
   ],
   "source": [
    "x=report.loc[:,'Ladder score']#The correlation between ladder score and Generosity\n",
    "y=report.loc[:,'Generosity']\n",
    "plt.scatter(x,y)\n",
    "plt.xlabel('Ladder score')\n",
    "plt.ylabel('Generosity')\n",
    "plt.show()"
   ]
  },
  {
   "cell_type": "code",
   "execution_count": 16,
   "id": "33d8d427",
   "metadata": {},
   "outputs": [
    {
     "data": {
      "image/png": "[encoded data removed]",
      "text/plain": [
       "<Figure size 432x288 with 1 Axes>"
      ]
     },
     "metadata": {
      "needs_background": "light"
     },
     "output_type": "display_data"
    }
   ],
   "source": [
    "x=report.loc[:,'Ladder score']#The correlation between ladder score and Perception of corruption\n",
    "y=report.loc[:,'Perceptions of corruption']\n",
    "plt.scatter(x,y)\n",
    "plt.xlabel('Ladder score')\n",
    "plt.ylabel('Perceptions of corruption')\n",
    "plt.show()"
   ]
  },
  {
   "cell_type": "code",
   "execution_count": 17,
   "id": "173ff4f9",
   "metadata": {
    "scrolled": true
   },
   "outputs": [
    {
     "data": {
      "image/png": "[encoded data removed]",
      "text/plain": [
       "<Figure size 432x288 with 1 Axes>"
      ]
     },
     "metadata": {
      "needs_background": "light"
     },
     "output_type": "display_data"
    }
   ],
   "source": [
    "x=report.loc[:,'Ladder score']#The correlation between ladder score and Dystopia+residual\n",
    "y=report.loc[:,'Dystopia + residual']\n",
    "plt.scatter(x,y)\n",
    "plt.xlabel('Ladder score')\n",
    "plt.ylabel('Dystopia + residual')\n",
    "plt.show()"
   ]
  },
  {
   "cell_type": "code",
   "execution_count": 18,
   "id": "a79f469d",
   "metadata": {
    "pycharm": {
     "name": "#%%\n"
    }
   },
   "outputs": [],
   "source": [
    "temp_report = report.drop(report.columns[3:6],axis='columns')"
   ]
  },
  {
   "cell_type": "code",
   "execution_count": 19,
   "id": "b101b63e",
   "metadata": {
    "pycharm": {
     "name": "#%%\n"
    }
   },
   "outputs": [
    {
     "data": {
      "image/png": "[encoded data removed]",
      "text/plain": [
       "<Figure size 1440x1440 with 2 Axes>"
      ]
     },
     "metadata": {
      "needs_background": "light"
     },
     "output_type": "display_data"
    }
   ],
   "source": [
    "# in sum, the correlation is represented by this heatmap matrix\n",
    "dataset_x = report.iloc[:, 6:12]\n",
    "dataset_y = report.iloc[:, 2]\n",
    "\n",
    "\n",
    "corr_report = pd.concat([dataset_x, dataset_y], axis=1)\n",
    "corrmat = corr_report.corr()\n",
    "top_corr_features = corrmat.index\n",
    "plt.figure(figsize=(20,20))\n",
    "\n",
    "graph = sns.heatmap(corr_report[top_corr_features].corr(), annot=True,cmap=\"RdYlGn\")"
   ]
  },
  {
   "cell_type": "code",
   "execution_count": 20,
   "id": "26a762e3",
   "metadata": {
    "pycharm": {
     "name": "#%%\n"
    }
   },
   "outputs": [
    {
     "name": "stdout",
     "output_type": "stream",
     "text": [
      "                                         Specs       Score\n",
      "0                        Logged GDP per capita  243.666918\n",
      "7             Explained by: Log GDP per capita  243.642327\n",
      "9        Explained by: Healthy life expectancy  211.567894\n",
      "2                      Healthy life expectancy  211.516275\n",
      "1                               Social support  197.164694\n",
      "8                 Explained by: Social support  197.141572\n",
      "10  Explained by: Freedom to make life choices   86.115845\n",
      "3                 Freedom to make life choices   86.097937\n"
     ]
    },
    {
     "name": "stderr",
     "output_type": "stream",
     "text": [
      "c:\\users\\aenor\\appdata\\local\\programs\\python\\python37\\lib\\site-packages\\sklearn\\feature_selection\\_univariate_selection.py:284: RuntimeWarning: invalid value encountered in sqrt\n",
      "  X_norms = np.sqrt(row_norms(X.T, squared=True) - n_samples * X_means ** 2)\n"
     ]
    }
   ],
   "source": [
    "from sklearn.feature_selection import SelectKBest\n",
    "from sklearn.feature_selection import f_regression\n",
    "X=temp_report.iloc[:,3:]\n",
    "y=temp_report.iloc[:,2]\n",
    "bestfeatures=SelectKBest(score_func=f_regression,k=8)\n",
    "fit=bestfeatures.fit(X,y)\n",
    "dfcolumns=pd.DataFrame(X.columns)\n",
    "dfscores=pd.DataFrame(fit.scores_)\n",
    "\n",
    "featureScores=pd.concat([dfcolumns, dfscores],axis=1)\n",
    "featureScores.columns =['Specs','Score']\n",
    "print(featureScores.nlargest(8,'Score'))"
   ]
  },
  {
   "cell_type": "code",
   "execution_count": 21,
   "id": "efd6cd61",
   "metadata": {
    "pycharm": {
     "name": "#%%\n"
    }
   },
   "outputs": [
    {
     "data": {
      "text/plain": [
       "0      7.842\n",
       "1      7.620\n",
       "2      7.571\n",
       "3      7.554\n",
       "4      7.464\n",
       "       ...  \n",
       "144    3.512\n",
       "145    3.467\n",
       "146    3.415\n",
       "147    3.145\n",
       "148    2.523\n",
       "Name: Ladder score, Length: 149, dtype: float64"
      ]
     },
     "execution_count": 21,
     "metadata": {},
     "output_type": "execute_result"
    }
   ],
   "source": [
    "from sklearn.model_selection import train_test_split\n",
    "from sklearn.preprocessing import StandardScaler\n",
    "from sklearn.decomposition import PCA\n",
    "\n",
    "temp_report=temp_report.drop(temp_report.columns[9],axis='columns')\n",
    "df=pd.get_dummies(data=temp_report, columns=['Regional indicator'])\n",
    "X=df.iloc[:,2:8] #3,4,5,6,7,8열\n",
    "y=df.iloc[:,1] #두번째 열만\n",
    "train_X,test_X,train_y,test_y=train_test_split(X,y,test_size=0.2,random_state=0)\n",
    "scaler=StandardScaler()\n",
    "scaler.fit(train_X)\n",
    "train_X=scaler.transform(train_X)\n",
    "test_X=scaler.transform(test_X)\n",
    "y"
   ]
  },
  {
   "cell_type": "code",
   "execution_count": 22,
   "id": "66be86b0",
   "metadata": {
    "pycharm": {
     "name": "#%%\n"
    }
   },
   "outputs": [
    {
     "data": {
      "text/plain": [
       "array([0.51440552, 0.2101528 ])"
      ]
     },
     "execution_count": 22,
     "metadata": {},
     "output_type": "execute_result"
    }
   ],
   "source": [
    "pca=PCA(n_components=2) # two principle components\n",
    "principalComponents=pca.fit_transform(train_X)\n",
    "pdf=pd.DataFrame(data=principalComponents,columns=['a','b'])#compose principle component data frame\n",
    "sum(pca.explained_variance_ratio_)# sum of variance ratio 0.7521389115326861\n",
    "pca.explained_variance_ratio_ #get variance ratio of 2 PC"
   ]
  },
  {
   "cell_type": "code",
   "execution_count": 23,
   "id": "36870310",
   "metadata": {
    "pycharm": {
     "name": "#%%\n"
    }
   },
   "outputs": [
    {
     "data": {
      "text/plain": [
       "<BarContainer object of 2 artists>"
      ]
     },
     "execution_count": 23,
     "metadata": {},
     "output_type": "execute_result"
    },
    {
     "data": {
      "image/png": "[encoded data removed]",
      "text/plain": [
       "<Figure size 432x288 with 1 Axes>"
      ]
     },
     "metadata": {
      "needs_background": "light"
     },
     "output_type": "display_data"
    }
   ],
   "source": [
    "pca_size=2\n",
    "ax=plt.subplot()\n",
    "order=range(0,pca_size,1)\n",
    "label=[\"PC\"+str(i+1)for i in range(int(pca_size))]\n",
    "ratio=pca.explained_variance_ratio_\n",
    "plt.bar(label,ratio)"
   ]
  },
  {
   "cell_type": "code",
   "execution_count": 24,
   "id": "05c8b01f",
   "metadata": {
    "pycharm": {
     "name": "#%%\n"
    }
   },
   "outputs": [
    {
     "data": {
      "text/plain": [
       "array([0.51440552, 0.2101528 , 0.12421139])"
      ]
     },
     "execution_count": 24,
     "metadata": {},
     "output_type": "execute_result"
    }
   ],
   "source": [
    "pca=PCA(n_components=3) #3 PC\n",
    "principalComponents=pca.fit_transform(train_X)\n",
    "pdf=pd.DataFrame(data=principalComponents,columns=['a','b','c'])\n",
    "sum(pca.explained_variance_ratio_)#Sum of 3 variance ratio 0.8587359684840074\n",
    "pca.explained_variance_ratio_# variance ratio"
   ]
  },
  {
   "cell_type": "code",
   "execution_count": 25,
   "id": "f93aa8e0",
   "metadata": {
    "pycharm": {
     "name": "#%%\n"
    }
   },
   "outputs": [
    {
     "data": {
      "text/plain": [
       "<BarContainer object of 3 artists>"
      ]
     },
     "execution_count": 25,
     "metadata": {},
     "output_type": "execute_result"
    },
    {
     "data": {
      "image/png": "[encoded data removed]",
      "text/plain": [
       "<Figure size 432x288 with 1 Axes>"
      ]
     },
     "metadata": {
      "needs_background": "light"
     },
     "output_type": "display_data"
    }
   ],
   "source": [
    "pca_size=3\n",
    "ax=plt.subplot()\n",
    "order=range(0,pca_size,1)\n",
    "label=[\"PC\"+str(i+1)for i in range(int(pca_size))]\n",
    "ratio=pca.explained_variance_ratio_\n",
    "plt.bar(label,ratio)"
   ]
  },
  {
   "cell_type": "code",
   "execution_count": 26,
   "id": "03a32934",
   "metadata": {
    "pycharm": {
     "name": "#%%\n"
    }
   },
   "outputs": [
    {
     "data": {
      "text/plain": [
       "array([0.51440552, 0.2101528 , 0.12421139, 0.09132155])"
      ]
     },
     "execution_count": 26,
     "metadata": {},
     "output_type": "execute_result"
    }
   ],
   "source": [
    "pca=PCA(n_components=4)\n",
    "principalComponents=pca.fit_transform(train_X)\n",
    "pdf=pd.DataFrame(data=principalComponents,columns=['a','b','c','d'])\n",
    "sum(pca.explained_variance_ratio_)\n",
    "pca.explained_variance_ratio_"
   ]
  },
  {
   "cell_type": "code",
   "execution_count": 27,
   "id": "1a282a7b",
   "metadata": {
    "pycharm": {
     "name": "#%%\n"
    }
   },
   "outputs": [
    {
     "data": {
      "text/plain": [
       "array([0.51440552, 0.2101528 , 0.12421139, 0.09132155, 0.04200266])"
      ]
     },
     "execution_count": 27,
     "metadata": {},
     "output_type": "execute_result"
    }
   ],
   "source": [
    "pca=PCA(n_components=5)\n",
    "principalComponents=pca.fit_transform(train_X)\n",
    "pdf=pd.DataFrame(data=principalComponents,columns=['a','b','c','d','e'])\n",
    "sum(pca.explained_variance_ratio_)\n",
    "pca.explained_variance_ratio_"
   ]
  },
  {
   "cell_type": "code",
   "execution_count": 28,
   "id": "f0e66d9c",
   "metadata": {
    "pycharm": {
     "name": "#%%\n"
    }
   },
   "outputs": [
    {
     "data": {
      "text/plain": [
       "array([0.51440552, 0.2101528 , 0.12421139, 0.09132155, 0.04200266,\n",
       "       0.01790607])"
      ]
     },
     "execution_count": 28,
     "metadata": {},
     "output_type": "execute_result"
    }
   ],
   "source": [
    "pca=PCA(n_components=6)\n",
    "principalComponents=pca.fit_transform(train_X)\n",
    "pdf=pd.DataFrame(data=principalComponents,columns=['a','b','c','d','e','f'])\n",
    "sum(pca.explained_variance_ratio_)#\n",
    "pca.explained_variance_ratio_"
   ]
  },
  {
   "cell_type": "code",
   "execution_count": 29,
   "id": "c2ec8e5d",
   "metadata": {},
   "outputs": [
    {
     "data": {
      "text/plain": [
       "<BarContainer object of 6 artists>"
      ]
     },
     "execution_count": 29,
     "metadata": {},
     "output_type": "execute_result"
    },
    {
     "data": {
      "image/png": "[encoded data removed]",
      "text/plain": [
       "<Figure size 432x288 with 1 Axes>"
      ]
     },
     "metadata": {
      "needs_background": "light"
     },
     "output_type": "display_data"
    }
   ],
   "source": [
    "pca_size=6\n",
    "ax=plt.subplot()\n",
    "order=range(0,pca_size,1)\n",
    "label=[\"PC\"+str(i+1)for i in range(int(pca_size))]\n",
    "ratio=pca.explained_variance_ratio_\n",
    "plt.bar(label,ratio)"
   ]
  },
  {
   "cell_type": "code",
   "execution_count": 30,
   "id": "a262bde6",
   "metadata": {
    "pycharm": {
     "name": "#%%\n"
    }
   },
   "outputs": [],
   "source": [
    "# in conclusion the fifth PC variance ratio is only 0.036.\n",
    "#Therefore, the additional PC do not increase the amount of dispersion that can be explained\n",
    "# It can be said that is is appropriate to determine 4 main components.\n",
    "train_img=pca.transform(train_X)\n",
    "test_img=pca.transform(test_X)"
   ]
  },
  {
   "cell_type": "code",
   "execution_count": 31,
   "id": "f2678cae",
   "metadata": {
    "pycharm": {
     "name": "#%%\n"
    }
   },
   "outputs": [
    {
     "ename": "ModuleNotFoundError",
     "evalue": "No module named 'yellowbrick'",
     "output_type": "error",
     "traceback": [
      "\u001b[1;31m---------------------------------------------------------------------------\u001b[0m",
      "\u001b[1;31mModuleNotFoundError\u001b[0m                       Traceback (most recent call last)",
      "\u001b[1;32m~\\AppData\\Local\\Temp\\ipykernel_23348\\236465004.py\u001b[0m in \u001b[0;36m<module>\u001b[1;34m\u001b[0m\n\u001b[0;32m      2\u001b[0m \u001b[1;31m# this is the process of getting proper K value, that is the number of clusters\u001b[0m\u001b[1;33m\u001b[0m\u001b[1;33m\u001b[0m\u001b[0m\n\u001b[0;32m      3\u001b[0m \u001b[1;31m# Yellowbrick extends the Scikit-Learn API to make model selection and hyperparameter tuning easier. Under the hood, it’s using Matplotlib.\u001b[0m\u001b[1;33m\u001b[0m\u001b[1;33m\u001b[0m\u001b[0m\n\u001b[1;32m----> 4\u001b[1;33m \u001b[1;32mfrom\u001b[0m \u001b[0myellowbrick\u001b[0m\u001b[1;33m.\u001b[0m\u001b[0mcluster\u001b[0m \u001b[1;32mimport\u001b[0m \u001b[0mKElbowVisualizer\u001b[0m\u001b[1;33m\u001b[0m\u001b[0m\n\u001b[0m\u001b[0;32m      5\u001b[0m \u001b[1;32mfrom\u001b[0m \u001b[0msklearn\u001b[0m \u001b[1;33m.\u001b[0m\u001b[0mcluster\u001b[0m \u001b[1;32mimport\u001b[0m \u001b[0mKMeans\u001b[0m\u001b[1;33m\u001b[0m\u001b[0m\n\u001b[0;32m      6\u001b[0m \u001b[1;33m\u001b[0m\u001b[0m\n",
      "\u001b[1;31mModuleNotFoundError\u001b[0m: No module named 'yellowbrick'"
     ]
    }
   ],
   "source": [
    "# knowing the number of clusters that is recommended before clustering is important.\n",
    "# this is the process of getting proper K value, that is the number of clusters\n",
    "# Yellowbrick extends the Scikit-Learn API to make model selection and hyperparameter tuning easier. Under the hood, it’s using Matplotlib.\n",
    "from yellowbrick.cluster import KElbowVisualizer\n",
    "from sklearn .cluster import KMeans\n",
    "\n",
    "model = KMeans()\n",
    "# Visualizers are the core objects in Yellowbrick.\n",
    "# Visualizers can wrap a model estimator\n",
    "# https://www.scikit-yb.org/en/latest/\n",
    "\n",
    "df_GL = temp_report.iloc[:, 3:9]\n",
    "df_GL_mean = pd.DataFrame(data = df_GL.mean(axis='columns'), columns=['mean'])\n",
    "df_ladder_score = temp_report.loc[:, 'Ladder score']\n",
    "df = pd.concat([df_GL_mean, df_ladder_score], axis=1)\n",
    "\n",
    "#K-Elbow Plot : select k using the elbow method and various metrics\n",
    "visualizer = KElbowVisualizer(model, k=(1,10))\n",
    "visualizer.fit(df)"
   ]
  },
  {
   "cell_type": "code",
   "execution_count": 32,
   "id": "39e1a109",
   "metadata": {
    "pycharm": {
     "name": "#%%\n"
    }
   },
   "outputs": [
    {
     "ename": "NameError",
     "evalue": "name 'KMeans' is not defined",
     "output_type": "error",
     "traceback": [
      "\u001b[1;31m---------------------------------------------------------------------------\u001b[0m",
      "\u001b[1;31mNameError\u001b[0m                                 Traceback (most recent call last)",
      "\u001b[1;32m~\\AppData\\Local\\Temp\\ipykernel_23348\\1626419816.py\u001b[0m in \u001b[0;36m<module>\u001b[1;34m\u001b[0m\n\u001b[0;32m      7\u001b[0m \u001b[0mcluster_dataset\u001b[0m \u001b[1;33m=\u001b[0m \u001b[0mpd\u001b[0m\u001b[1;33m.\u001b[0m\u001b[0mconcat\u001b[0m\u001b[1;33m(\u001b[0m\u001b[1;33m[\u001b[0m\u001b[0mdataset_y\u001b[0m\u001b[1;33m,\u001b[0m\u001b[0mmean\u001b[0m\u001b[1;33m]\u001b[0m\u001b[1;33m,\u001b[0m \u001b[0maxis\u001b[0m\u001b[1;33m=\u001b[0m\u001b[1;36m1\u001b[0m\u001b[1;33m)\u001b[0m\u001b[1;33m\u001b[0m\u001b[0m\n\u001b[0;32m      8\u001b[0m \u001b[1;33m\u001b[0m\u001b[0m\n\u001b[1;32m----> 9\u001b[1;33m \u001b[0mKM\u001b[0m \u001b[1;33m=\u001b[0m \u001b[0mKMeans\u001b[0m\u001b[1;33m(\u001b[0m\u001b[0mn_clusters\u001b[0m\u001b[1;33m=\u001b[0m\u001b[1;36m3\u001b[0m\u001b[1;33m)\u001b[0m\u001b[1;33m.\u001b[0m\u001b[0mfit\u001b[0m\u001b[1;33m(\u001b[0m\u001b[0mcluster_dataset\u001b[0m\u001b[1;33m)\u001b[0m\u001b[1;33m\u001b[0m\u001b[0m\n\u001b[0m\u001b[0;32m     10\u001b[0m \u001b[1;33m\u001b[0m\u001b[0m\n\u001b[0;32m     11\u001b[0m \u001b[0mcolors\u001b[0m \u001b[1;33m=\u001b[0m \u001b[1;33m[\u001b[0m\u001b[1;33m]\u001b[0m\u001b[1;33m\u001b[0m\u001b[0m\n",
      "\u001b[1;31mNameError\u001b[0m: name 'KMeans' is not defined"
     ]
    }
   ],
   "source": [
    "# with this result, we know that Logged GDP per capita, Social support, and Healthy life expectancy is\n",
    "# highly related feature with the ladder score.\n",
    "# so, our decision is, select X value as the average value of three features is the best choice\n",
    "# and we must avoid including Generosity and Perceptions of corruption as they have negative value.\n",
    "\n",
    "mean = pd.DataFrame(data = report.iloc[:, 6:9].mean(axis='columns'), columns=['mean'])\n",
    "cluster_dataset = pd.concat([dataset_y,mean], axis=1)\n",
    "\n",
    "KM = KMeans(n_clusters=3).fit(cluster_dataset)\n",
    "\n",
    "colors = []\n",
    "for i in KM.labels_:\n",
    "  if i == 0:\n",
    "    colors.append('skyblue')\n",
    "  elif i == 1:\n",
    "    colors.append('orange')\n",
    "  elif i == 2:\n",
    "    colors.append('green')\n",
    "\n",
    "plt.scatter(cluster_dataset['mean'], cluster_dataset['Ladder score'], c=colors)\n",
    "plt.show()"
   ]
  },
  {
   "cell_type": "code",
   "execution_count": 33,
   "id": "72ca8e6d",
   "metadata": {
    "pycharm": {
     "name": "#%%\n"
    }
   },
   "outputs": [
    {
     "ename": "NameError",
     "evalue": "name 'KM' is not defined",
     "output_type": "error",
     "traceback": [
      "\u001b[1;31m---------------------------------------------------------------------------\u001b[0m",
      "\u001b[1;31mNameError\u001b[0m                                 Traceback (most recent call last)",
      "\u001b[1;32m~\\AppData\\Local\\Temp\\ipykernel_23348\\1441777187.py\u001b[0m in \u001b[0;36m<module>\u001b[1;34m\u001b[0m\n\u001b[0;32m      2\u001b[0m \u001b[1;31m# 클러스터링 완료된 데이터셋입니다.\u001b[0m\u001b[1;33m\u001b[0m\u001b[1;33m\u001b[0m\u001b[0m\n\u001b[0;32m      3\u001b[0m \u001b[1;33m\u001b[0m\u001b[0m\n\u001b[1;32m----> 4\u001b[1;33m \u001b[0mdf_cluster\u001b[0m \u001b[1;33m=\u001b[0m \u001b[0mpd\u001b[0m\u001b[1;33m.\u001b[0m\u001b[0mDataFrame\u001b[0m\u001b[1;33m(\u001b[0m\u001b[0mdata\u001b[0m \u001b[1;33m=\u001b[0m \u001b[0mKM\u001b[0m\u001b[1;33m.\u001b[0m\u001b[0mlabels_\u001b[0m\u001b[1;33m,\u001b[0m \u001b[0mcolumns\u001b[0m\u001b[1;33m=\u001b[0m\u001b[1;33m[\u001b[0m\u001b[1;34m'cluster'\u001b[0m\u001b[1;33m]\u001b[0m\u001b[1;33m)\u001b[0m\u001b[1;33m\u001b[0m\u001b[0m\n\u001b[0m\u001b[0;32m      5\u001b[0m \u001b[0mclustered_report\u001b[0m \u001b[1;33m=\u001b[0m \u001b[0mpd\u001b[0m\u001b[1;33m.\u001b[0m\u001b[0mDataFrame\u001b[0m\u001b[1;33m(\u001b[0m\u001b[0mdata\u001b[0m\u001b[1;33m=\u001b[0m\u001b[0mreport\u001b[0m\u001b[1;33m)\u001b[0m\u001b[1;33m\u001b[0m\u001b[0m\n\u001b[0;32m      6\u001b[0m \u001b[0mclustered_report\u001b[0m \u001b[1;33m=\u001b[0m \u001b[0mpd\u001b[0m\u001b[1;33m.\u001b[0m\u001b[0mconcat\u001b[0m\u001b[1;33m(\u001b[0m\u001b[1;33m[\u001b[0m\u001b[0mclustered_report\u001b[0m\u001b[1;33m,\u001b[0m \u001b[0mdf_cluster\u001b[0m\u001b[1;33m]\u001b[0m\u001b[1;33m,\u001b[0m \u001b[0maxis\u001b[0m\u001b[1;33m=\u001b[0m\u001b[1;36m1\u001b[0m\u001b[1;33m)\u001b[0m\u001b[1;33m\u001b[0m\u001b[0m\n",
      "\u001b[1;31mNameError\u001b[0m: name 'KM' is not defined"
     ]
    }
   ],
   "source": [
    "# now we gonna save this clustered result to new data frame : clustered_report.\n",
    "# 클러스터링 완료된 데이터셋입니다.\n",
    "\n",
    "df_cluster = pd.DataFrame(data = KM.labels_, columns=['cluster'])\n",
    "clustered_report = pd.DataFrame(data=report)\n",
    "clustered_report = pd.concat([clustered_report, df_cluster], axis=1)\n",
    "# dataset that includes cluster information\n",
    "clustered_report"
   ]
  },
  {
   "cell_type": "code",
   "execution_count": 34,
   "id": "2b82041e",
   "metadata": {
    "pycharm": {
     "name": "#%%\n"
    }
   },
   "outputs": [
    {
     "ename": "ModuleNotFoundError",
     "evalue": "No module named 'plotly'",
     "output_type": "error",
     "traceback": [
      "\u001b[1;31m---------------------------------------------------------------------------\u001b[0m",
      "\u001b[1;31mModuleNotFoundError\u001b[0m                       Traceback (most recent call last)",
      "\u001b[1;32m~\\AppData\\Local\\Temp\\ipykernel_23348\\3072106425.py\u001b[0m in \u001b[0;36m<module>\u001b[1;34m\u001b[0m\n\u001b[1;32m----> 1\u001b[1;33m \u001b[1;32mfrom\u001b[0m \u001b[0mplotly\u001b[0m\u001b[1;33m.\u001b[0m\u001b[0moffline\u001b[0m \u001b[1;32mimport\u001b[0m \u001b[0miplot\u001b[0m\u001b[1;33m\u001b[0m\u001b[0m\n\u001b[0m\u001b[0;32m      2\u001b[0m \u001b[1;32mimport\u001b[0m \u001b[0mplotly\u001b[0m\u001b[1;33m.\u001b[0m\u001b[0mgraph_objs\u001b[0m \u001b[1;32mas\u001b[0m \u001b[0mgo\u001b[0m\u001b[1;33m\u001b[0m\u001b[0m\n\u001b[0;32m      3\u001b[0m \u001b[1;33m\u001b[0m\u001b[0m\n\u001b[0;32m      4\u001b[0m data = dict(type = 'choropleth',\n\u001b[0;32m      5\u001b[0m            \u001b[0mlocations\u001b[0m \u001b[1;33m=\u001b[0m \u001b[0mclustered_report\u001b[0m\u001b[1;33m[\u001b[0m\u001b[1;34m'Country name'\u001b[0m\u001b[1;33m]\u001b[0m\u001b[1;33m,\u001b[0m\u001b[1;33m\u001b[0m\u001b[0m\n",
      "\u001b[1;31mModuleNotFoundError\u001b[0m: No module named 'plotly'"
     ]
    }
   ],
   "source": [
    "from plotly.offline import iplot\n",
    "import plotly.graph_objs as go\n",
    "\n",
    "data = dict(type = 'choropleth',\n",
    "           locations = clustered_report['Country name'],\n",
    "           locationmode = 'country names',\n",
    "           z = clustered_report['cluster'],\n",
    "           text = clustered_report['Country name'],\n",
    "           colorbar = {'title':'cluster'})\n",
    "layout = dict(title = 'Happiness Index 2021',\n",
    "             geo = dict(showframe = False,\n",
    "                       projection = {'type': 'Mercator'}))\n",
    "choromap3 = go.Figure(data = [data])\n",
    "iplot(choromap3)\n"
   ]
  },
  {
   "cell_type": "code",
   "execution_count": 35,
   "id": "f38c2e67",
   "metadata": {},
   "outputs": [
    {
     "data": {
      "text/plain": [
       "<seaborn.axisgrid.FacetGrid at 0x2138e46b048>"
      ]
     },
     "execution_count": 35,
     "metadata": {},
     "output_type": "execute_result"
    },
    {
     "data": {
      "image/png": "[encoded data removed]",
      "text/plain": [
       "<Figure size 587.225x360 with 1 Axes>"
      ]
     },
     "metadata": {},
     "output_type": "display_data"
    }
   ],
   "source": [
    "import seaborn as sns\n",
    "sns.set_theme()\n",
    "\n",
    "sns.relplot(\n",
    "    data=report,\n",
    "    x='Ladder score', \n",
    "    y='Healthy life expectancy', \n",
    "    hue='Regional indicator')"
   ]
  },
  {
   "cell_type": "code",
   "execution_count": 36,
   "id": "a130758d",
   "metadata": {
    "pycharm": {
     "name": "#%%\n"
    }
   },
   "outputs": [
    {
     "name": "stdout",
     "output_type": "stream",
     "text": [
      "Sub-Saharan Africa                    36\n",
      "Western Europe                        21\n",
      "Latin America and Caribbean           20\n",
      "Central and Eastern Europe            17\n",
      "Middle East and North Africa          17\n",
      "Commonwealth of Independent States    12\n",
      "Southeast Asia                         9\n",
      "South Asia                             7\n",
      "East Asia                              6\n",
      "North America and ANZ                  4\n",
      "Name: Regional indicator, dtype: int64\n",
      "\n",
      "Western Europe                  17\n",
      "North America and ANZ            4\n",
      "Middle East and North Africa     4\n",
      "Central and Eastern Europe       2\n",
      "Latin America and Caribbean      2\n",
      "East Asia                        1\n",
      "Name: Regional indicator, dtype: int64\n"
     ]
    }
   ],
   "source": [
    "print(report['Regional indicator'].value_counts())\n",
    "print()\n",
    "top30= report[:30]\n",
    "print(top30['Regional indicator'].value_counts())\n",
    "#Showes that 17 countries in western Europe are in the top 30 happiest countries"
   ]
  },
  {
   "cell_type": "code",
   "execution_count": 37,
   "id": "23fb3a2d",
   "metadata": {
    "pycharm": {
     "name": "#%%\n"
    }
   },
   "outputs": [
    {
     "data": {
      "text/html": [
       "<div>\n",
       "<style scoped>\n",
       "    .dataframe tbody tr th:only-of-type {\n",
       "        vertical-align: middle;\n",
       "    }\n",
       "\n",
       "    .dataframe tbody tr th {\n",
       "        vertical-align: top;\n",
       "    }\n",
       "\n",
       "    .dataframe thead th {\n",
       "        text-align: right;\n",
       "    }\n",
       "</style>\n",
       "<table border=\"1\" class=\"dataframe\">\n",
       "  <thead>\n",
       "    <tr style=\"text-align: right;\">\n",
       "      <th></th>\n",
       "      <th>Country name</th>\n",
       "      <th>Regional indicator</th>\n",
       "      <th>Ladder score</th>\n",
       "      <th>Logged GDP per capita</th>\n",
       "      <th>Social support</th>\n",
       "      <th>Healthy life expectancy</th>\n",
       "      <th>Freedom to make life choices</th>\n",
       "      <th>Generosity</th>\n",
       "      <th>Perceptions of corruption</th>\n",
       "      <th>Ladder score in Dystopia</th>\n",
       "      <th>Explained by: Log GDP per capita</th>\n",
       "      <th>Explained by: Social support</th>\n",
       "      <th>Explained by: Healthy life expectancy</th>\n",
       "      <th>Explained by: Freedom to make life choices</th>\n",
       "      <th>Explained by: Generosity</th>\n",
       "      <th>Explained by: Perceptions of corruption</th>\n",
       "      <th>Dystopia + residual</th>\n",
       "    </tr>\n",
       "  </thead>\n",
       "  <tbody>\n",
       "    <tr>\n",
       "      <th>0</th>\n",
       "      <td>Finland</td>\n",
       "      <td>Western Europe</td>\n",
       "      <td>7.842</td>\n",
       "      <td>10.775</td>\n",
       "      <td>0.954</td>\n",
       "      <td>72.000</td>\n",
       "      <td>0.949</td>\n",
       "      <td>-0.098</td>\n",
       "      <td>0.186</td>\n",
       "      <td>2.43</td>\n",
       "      <td>1.446</td>\n",
       "      <td>1.106</td>\n",
       "      <td>0.741</td>\n",
       "      <td>0.691</td>\n",
       "      <td>0.124</td>\n",
       "      <td>0.481</td>\n",
       "      <td>3.253</td>\n",
       "    </tr>\n",
       "    <tr>\n",
       "      <th>1</th>\n",
       "      <td>Denmark</td>\n",
       "      <td>Western Europe</td>\n",
       "      <td>7.620</td>\n",
       "      <td>10.933</td>\n",
       "      <td>0.954</td>\n",
       "      <td>72.700</td>\n",
       "      <td>0.946</td>\n",
       "      <td>0.030</td>\n",
       "      <td>0.179</td>\n",
       "      <td>2.43</td>\n",
       "      <td>1.502</td>\n",
       "      <td>1.108</td>\n",
       "      <td>0.763</td>\n",
       "      <td>0.686</td>\n",
       "      <td>0.208</td>\n",
       "      <td>0.485</td>\n",
       "      <td>2.868</td>\n",
       "    </tr>\n",
       "    <tr>\n",
       "      <th>2</th>\n",
       "      <td>Switzerland</td>\n",
       "      <td>Western Europe</td>\n",
       "      <td>7.571</td>\n",
       "      <td>11.117</td>\n",
       "      <td>0.942</td>\n",
       "      <td>74.400</td>\n",
       "      <td>0.919</td>\n",
       "      <td>0.025</td>\n",
       "      <td>0.292</td>\n",
       "      <td>2.43</td>\n",
       "      <td>1.566</td>\n",
       "      <td>1.079</td>\n",
       "      <td>0.816</td>\n",
       "      <td>0.653</td>\n",
       "      <td>0.204</td>\n",
       "      <td>0.413</td>\n",
       "      <td>2.839</td>\n",
       "    </tr>\n",
       "    <tr>\n",
       "      <th>3</th>\n",
       "      <td>Iceland</td>\n",
       "      <td>Western Europe</td>\n",
       "      <td>7.554</td>\n",
       "      <td>10.878</td>\n",
       "      <td>0.983</td>\n",
       "      <td>73.000</td>\n",
       "      <td>0.955</td>\n",
       "      <td>0.160</td>\n",
       "      <td>0.673</td>\n",
       "      <td>2.43</td>\n",
       "      <td>1.482</td>\n",
       "      <td>1.172</td>\n",
       "      <td>0.772</td>\n",
       "      <td>0.698</td>\n",
       "      <td>0.293</td>\n",
       "      <td>0.170</td>\n",
       "      <td>2.967</td>\n",
       "    </tr>\n",
       "    <tr>\n",
       "      <th>4</th>\n",
       "      <td>Netherlands</td>\n",
       "      <td>Western Europe</td>\n",
       "      <td>7.464</td>\n",
       "      <td>10.932</td>\n",
       "      <td>0.942</td>\n",
       "      <td>72.400</td>\n",
       "      <td>0.913</td>\n",
       "      <td>0.175</td>\n",
       "      <td>0.338</td>\n",
       "      <td>2.43</td>\n",
       "      <td>1.501</td>\n",
       "      <td>1.079</td>\n",
       "      <td>0.753</td>\n",
       "      <td>0.647</td>\n",
       "      <td>0.302</td>\n",
       "      <td>0.384</td>\n",
       "      <td>2.798</td>\n",
       "    </tr>\n",
       "    <tr>\n",
       "      <th>...</th>\n",
       "      <td>...</td>\n",
       "      <td>...</td>\n",
       "      <td>...</td>\n",
       "      <td>...</td>\n",
       "      <td>...</td>\n",
       "      <td>...</td>\n",
       "      <td>...</td>\n",
       "      <td>...</td>\n",
       "      <td>...</td>\n",
       "      <td>...</td>\n",
       "      <td>...</td>\n",
       "      <td>...</td>\n",
       "      <td>...</td>\n",
       "      <td>...</td>\n",
       "      <td>...</td>\n",
       "      <td>...</td>\n",
       "      <td>...</td>\n",
       "    </tr>\n",
       "    <tr>\n",
       "      <th>144</th>\n",
       "      <td>Lesotho</td>\n",
       "      <td>Sub-Saharan Africa</td>\n",
       "      <td>3.512</td>\n",
       "      <td>7.926</td>\n",
       "      <td>0.787</td>\n",
       "      <td>48.700</td>\n",
       "      <td>0.715</td>\n",
       "      <td>-0.131</td>\n",
       "      <td>0.915</td>\n",
       "      <td>2.43</td>\n",
       "      <td>0.451</td>\n",
       "      <td>0.731</td>\n",
       "      <td>0.007</td>\n",
       "      <td>0.405</td>\n",
       "      <td>0.103</td>\n",
       "      <td>0.015</td>\n",
       "      <td>1.800</td>\n",
       "    </tr>\n",
       "    <tr>\n",
       "      <th>145</th>\n",
       "      <td>Botswana</td>\n",
       "      <td>Sub-Saharan Africa</td>\n",
       "      <td>3.467</td>\n",
       "      <td>9.782</td>\n",
       "      <td>0.784</td>\n",
       "      <td>59.269</td>\n",
       "      <td>0.824</td>\n",
       "      <td>-0.246</td>\n",
       "      <td>0.801</td>\n",
       "      <td>2.43</td>\n",
       "      <td>1.099</td>\n",
       "      <td>0.724</td>\n",
       "      <td>0.340</td>\n",
       "      <td>0.539</td>\n",
       "      <td>0.027</td>\n",
       "      <td>0.088</td>\n",
       "      <td>0.648</td>\n",
       "    </tr>\n",
       "    <tr>\n",
       "      <th>146</th>\n",
       "      <td>Rwanda</td>\n",
       "      <td>Sub-Saharan Africa</td>\n",
       "      <td>3.415</td>\n",
       "      <td>7.676</td>\n",
       "      <td>0.552</td>\n",
       "      <td>61.400</td>\n",
       "      <td>0.897</td>\n",
       "      <td>0.061</td>\n",
       "      <td>0.167</td>\n",
       "      <td>2.43</td>\n",
       "      <td>0.364</td>\n",
       "      <td>0.202</td>\n",
       "      <td>0.407</td>\n",
       "      <td>0.627</td>\n",
       "      <td>0.227</td>\n",
       "      <td>0.493</td>\n",
       "      <td>1.095</td>\n",
       "    </tr>\n",
       "    <tr>\n",
       "      <th>147</th>\n",
       "      <td>Zimbabwe</td>\n",
       "      <td>Sub-Saharan Africa</td>\n",
       "      <td>3.145</td>\n",
       "      <td>7.943</td>\n",
       "      <td>0.750</td>\n",
       "      <td>56.201</td>\n",
       "      <td>0.677</td>\n",
       "      <td>-0.047</td>\n",
       "      <td>0.821</td>\n",
       "      <td>2.43</td>\n",
       "      <td>0.457</td>\n",
       "      <td>0.649</td>\n",
       "      <td>0.243</td>\n",
       "      <td>0.359</td>\n",
       "      <td>0.157</td>\n",
       "      <td>0.075</td>\n",
       "      <td>1.205</td>\n",
       "    </tr>\n",
       "    <tr>\n",
       "      <th>148</th>\n",
       "      <td>Afghanistan</td>\n",
       "      <td>South Asia</td>\n",
       "      <td>2.523</td>\n",
       "      <td>7.695</td>\n",
       "      <td>0.463</td>\n",
       "      <td>52.493</td>\n",
       "      <td>0.382</td>\n",
       "      <td>-0.102</td>\n",
       "      <td>0.924</td>\n",
       "      <td>2.43</td>\n",
       "      <td>0.370</td>\n",
       "      <td>0.000</td>\n",
       "      <td>0.126</td>\n",
       "      <td>0.000</td>\n",
       "      <td>0.122</td>\n",
       "      <td>0.010</td>\n",
       "      <td>1.895</td>\n",
       "    </tr>\n",
       "  </tbody>\n",
       "</table>\n",
       "<p>149 rows × 17 columns</p>\n",
       "</div>"
      ],
      "text/plain": [
       "    Country name  Regional indicator  Ladder score  Logged GDP per capita  \\\n",
       "0        Finland      Western Europe         7.842                 10.775   \n",
       "1        Denmark      Western Europe         7.620                 10.933   \n",
       "2    Switzerland      Western Europe         7.571                 11.117   \n",
       "3        Iceland      Western Europe         7.554                 10.878   \n",
       "4    Netherlands      Western Europe         7.464                 10.932   \n",
       "..           ...                 ...           ...                    ...   \n",
       "144      Lesotho  Sub-Saharan Africa         3.512                  7.926   \n",
       "145     Botswana  Sub-Saharan Africa         3.467                  9.782   \n",
       "146       Rwanda  Sub-Saharan Africa         3.415                  7.676   \n",
       "147     Zimbabwe  Sub-Saharan Africa         3.145                  7.943   \n",
       "148  Afghanistan          South Asia         2.523                  7.695   \n",
       "\n",
       "     Social support  Healthy life expectancy  Freedom to make life choices  \\\n",
       "0             0.954                   72.000                         0.949   \n",
       "1             0.954                   72.700                         0.946   \n",
       "2             0.942                   74.400                         0.919   \n",
       "3             0.983                   73.000                         0.955   \n",
       "4             0.942                   72.400                         0.913   \n",
       "..              ...                      ...                           ...   \n",
       "144           0.787                   48.700                         0.715   \n",
       "145           0.784                   59.269                         0.824   \n",
       "146           0.552                   61.400                         0.897   \n",
       "147           0.750                   56.201                         0.677   \n",
       "148           0.463                   52.493                         0.382   \n",
       "\n",
       "     Generosity  Perceptions of corruption  Ladder score in Dystopia  \\\n",
       "0        -0.098                      0.186                      2.43   \n",
       "1         0.030                      0.179                      2.43   \n",
       "2         0.025                      0.292                      2.43   \n",
       "3         0.160                      0.673                      2.43   \n",
       "4         0.175                      0.338                      2.43   \n",
       "..          ...                        ...                       ...   \n",
       "144      -0.131                      0.915                      2.43   \n",
       "145      -0.246                      0.801                      2.43   \n",
       "146       0.061                      0.167                      2.43   \n",
       "147      -0.047                      0.821                      2.43   \n",
       "148      -0.102                      0.924                      2.43   \n",
       "\n",
       "     Explained by: Log GDP per capita  Explained by: Social support  \\\n",
       "0                               1.446                         1.106   \n",
       "1                               1.502                         1.108   \n",
       "2                               1.566                         1.079   \n",
       "3                               1.482                         1.172   \n",
       "4                               1.501                         1.079   \n",
       "..                                ...                           ...   \n",
       "144                             0.451                         0.731   \n",
       "145                             1.099                         0.724   \n",
       "146                             0.364                         0.202   \n",
       "147                             0.457                         0.649   \n",
       "148                             0.370                         0.000   \n",
       "\n",
       "     Explained by: Healthy life expectancy  \\\n",
       "0                                    0.741   \n",
       "1                                    0.763   \n",
       "2                                    0.816   \n",
       "3                                    0.772   \n",
       "4                                    0.753   \n",
       "..                                     ...   \n",
       "144                                  0.007   \n",
       "145                                  0.340   \n",
       "146                                  0.407   \n",
       "147                                  0.243   \n",
       "148                                  0.126   \n",
       "\n",
       "     Explained by: Freedom to make life choices  Explained by: Generosity  \\\n",
       "0                                         0.691                     0.124   \n",
       "1                                         0.686                     0.208   \n",
       "2                                         0.653                     0.204   \n",
       "3                                         0.698                     0.293   \n",
       "4                                         0.647                     0.302   \n",
       "..                                          ...                       ...   \n",
       "144                                       0.405                     0.103   \n",
       "145                                       0.539                     0.027   \n",
       "146                                       0.627                     0.227   \n",
       "147                                       0.359                     0.157   \n",
       "148                                       0.000                     0.122   \n",
       "\n",
       "     Explained by: Perceptions of corruption  Dystopia + residual  \n",
       "0                                      0.481                3.253  \n",
       "1                                      0.485                2.868  \n",
       "2                                      0.413                2.839  \n",
       "3                                      0.170                2.967  \n",
       "4                                      0.384                2.798  \n",
       "..                                       ...                  ...  \n",
       "144                                    0.015                1.800  \n",
       "145                                    0.088                0.648  \n",
       "146                                    0.493                1.095  \n",
       "147                                    0.075                1.205  \n",
       "148                                    0.010                1.895  \n",
       "\n",
       "[149 rows x 17 columns]"
      ]
     },
     "execution_count": 37,
     "metadata": {},
     "output_type": "execute_result"
    }
   ],
   "source": [
    "new_report=report.drop(report.columns[3:6],axis='columns')\n",
    "new_report"
   ]
  },
  {
   "cell_type": "code",
   "execution_count": 38,
   "id": "311f7169",
   "metadata": {
    "pycharm": {
     "name": "#%%\n"
    }
   },
   "outputs": [
    {
     "name": "stdout",
     "output_type": "stream",
     "text": [
      "                                         Specs       Score\n",
      "0                        Logged GDP per capita  243.666918\n",
      "7             Explained by: Log GDP per capita  243.642327\n",
      "9        Explained by: Healthy life expectancy  211.567894\n",
      "2                      Healthy life expectancy  211.516275\n",
      "1                               Social support  197.164694\n",
      "8                 Explained by: Social support  197.141572\n",
      "10  Explained by: Freedom to make life choices   86.115845\n",
      "3                 Freedom to make life choices   86.097937\n"
     ]
    },
    {
     "name": "stderr",
     "output_type": "stream",
     "text": [
      "c:\\users\\aenor\\appdata\\local\\programs\\python\\python37\\lib\\site-packages\\sklearn\\feature_selection\\_univariate_selection.py:284: RuntimeWarning: invalid value encountered in sqrt\n",
      "  X_norms = np.sqrt(row_norms(X.T, squared=True) - n_samples * X_means ** 2)\n"
     ]
    }
   ],
   "source": [
    "from sklearn.feature_selection import SelectKBest\n",
    "from sklearn.feature_selection import f_regression\n",
    "X=new_report.iloc[:,3:]\n",
    "y=new_report.iloc[:,2]\n",
    "bestfeatures=SelectKBest(score_func=f_regression,k=8)\n",
    "fit=bestfeatures.fit(X,y)\n",
    "dfcolumns=pd.DataFrame(X.columns)\n",
    "dfscores=pd.DataFrame(fit.scores_)\n",
    "\n",
    "featureScores=pd.concat([dfcolumns, dfscores],axis=1)\n",
    "featureScores.columns =['Specs','Score']\n",
    "print(featureScores.nlargest(8,'Score'))"
   ]
  },
  {
   "cell_type": "code",
   "execution_count": 39,
   "id": "8ba6bd17",
   "metadata": {},
   "outputs": [
    {
     "data": {
      "image/png": "[encoded data removed]",
      "text/plain": [
       "<Figure size 432x288 with 2 Axes>"
      ]
     },
     "metadata": {},
     "output_type": "display_data"
    }
   ],
   "source": [
    "#plot correlation score\n",
    "sns.set_theme(style=\"white\")\n",
    "ax = sns.heatmap(new_report[new_report.columns[3:-1]].corr()).set_title(\"All Countries\")\n",
    "\n",
    "#showes that if GDP, Social, Healty interations are met people focus more on external things"
   ]
  },
  {
   "cell_type": "code",
   "execution_count": 40,
   "id": "6ab64d80",
   "metadata": {
    "scrolled": false
   },
   "outputs": [
    {
     "data": {
      "text/html": [
       "<div>\n",
       "<style scoped>\n",
       "    .dataframe tbody tr th:only-of-type {\n",
       "        vertical-align: middle;\n",
       "    }\n",
       "\n",
       "    .dataframe tbody tr th {\n",
       "        vertical-align: top;\n",
       "    }\n",
       "\n",
       "    .dataframe thead th {\n",
       "        text-align: right;\n",
       "    }\n",
       "</style>\n",
       "<table border=\"1\" class=\"dataframe\">\n",
       "  <thead>\n",
       "    <tr style=\"text-align: right;\">\n",
       "      <th></th>\n",
       "      <th>Country name</th>\n",
       "      <th>Regional indicator</th>\n",
       "      <th>Ladder score</th>\n",
       "      <th>Logged GDP per capita</th>\n",
       "      <th>Social support</th>\n",
       "      <th>Healthy life expectancy</th>\n",
       "      <th>Freedom to make life choices</th>\n",
       "      <th>Generosity</th>\n",
       "      <th>Perceptions of corruption</th>\n",
       "      <th>Explained by: Log GDP per capita</th>\n",
       "      <th>Explained by: Social support</th>\n",
       "      <th>Explained by: Healthy life expectancy</th>\n",
       "      <th>Explained by: Freedom to make life choices</th>\n",
       "      <th>Explained by: Generosity</th>\n",
       "      <th>Explained by: Perceptions of corruption</th>\n",
       "      <th>Dystopia + residual</th>\n",
       "    </tr>\n",
       "  </thead>\n",
       "  <tbody>\n",
       "    <tr>\n",
       "      <th>0</th>\n",
       "      <td>Finland</td>\n",
       "      <td>Western Europe</td>\n",
       "      <td>7.842</td>\n",
       "      <td>10.775</td>\n",
       "      <td>0.954</td>\n",
       "      <td>72.000</td>\n",
       "      <td>0.949</td>\n",
       "      <td>-0.098</td>\n",
       "      <td>0.186</td>\n",
       "      <td>1.446</td>\n",
       "      <td>1.106</td>\n",
       "      <td>0.741</td>\n",
       "      <td>0.691</td>\n",
       "      <td>0.124</td>\n",
       "      <td>0.481</td>\n",
       "      <td>3.253</td>\n",
       "    </tr>\n",
       "    <tr>\n",
       "      <th>1</th>\n",
       "      <td>Denmark</td>\n",
       "      <td>Western Europe</td>\n",
       "      <td>7.620</td>\n",
       "      <td>10.933</td>\n",
       "      <td>0.954</td>\n",
       "      <td>72.700</td>\n",
       "      <td>0.946</td>\n",
       "      <td>0.030</td>\n",
       "      <td>0.179</td>\n",
       "      <td>1.502</td>\n",
       "      <td>1.108</td>\n",
       "      <td>0.763</td>\n",
       "      <td>0.686</td>\n",
       "      <td>0.208</td>\n",
       "      <td>0.485</td>\n",
       "      <td>2.868</td>\n",
       "    </tr>\n",
       "    <tr>\n",
       "      <th>2</th>\n",
       "      <td>Switzerland</td>\n",
       "      <td>Western Europe</td>\n",
       "      <td>7.571</td>\n",
       "      <td>11.117</td>\n",
       "      <td>0.942</td>\n",
       "      <td>74.400</td>\n",
       "      <td>0.919</td>\n",
       "      <td>0.025</td>\n",
       "      <td>0.292</td>\n",
       "      <td>1.566</td>\n",
       "      <td>1.079</td>\n",
       "      <td>0.816</td>\n",
       "      <td>0.653</td>\n",
       "      <td>0.204</td>\n",
       "      <td>0.413</td>\n",
       "      <td>2.839</td>\n",
       "    </tr>\n",
       "    <tr>\n",
       "      <th>3</th>\n",
       "      <td>Iceland</td>\n",
       "      <td>Western Europe</td>\n",
       "      <td>7.554</td>\n",
       "      <td>10.878</td>\n",
       "      <td>0.983</td>\n",
       "      <td>73.000</td>\n",
       "      <td>0.955</td>\n",
       "      <td>0.160</td>\n",
       "      <td>0.673</td>\n",
       "      <td>1.482</td>\n",
       "      <td>1.172</td>\n",
       "      <td>0.772</td>\n",
       "      <td>0.698</td>\n",
       "      <td>0.293</td>\n",
       "      <td>0.170</td>\n",
       "      <td>2.967</td>\n",
       "    </tr>\n",
       "    <tr>\n",
       "      <th>4</th>\n",
       "      <td>Netherlands</td>\n",
       "      <td>Western Europe</td>\n",
       "      <td>7.464</td>\n",
       "      <td>10.932</td>\n",
       "      <td>0.942</td>\n",
       "      <td>72.400</td>\n",
       "      <td>0.913</td>\n",
       "      <td>0.175</td>\n",
       "      <td>0.338</td>\n",
       "      <td>1.501</td>\n",
       "      <td>1.079</td>\n",
       "      <td>0.753</td>\n",
       "      <td>0.647</td>\n",
       "      <td>0.302</td>\n",
       "      <td>0.384</td>\n",
       "      <td>2.798</td>\n",
       "    </tr>\n",
       "    <tr>\n",
       "      <th>...</th>\n",
       "      <td>...</td>\n",
       "      <td>...</td>\n",
       "      <td>...</td>\n",
       "      <td>...</td>\n",
       "      <td>...</td>\n",
       "      <td>...</td>\n",
       "      <td>...</td>\n",
       "      <td>...</td>\n",
       "      <td>...</td>\n",
       "      <td>...</td>\n",
       "      <td>...</td>\n",
       "      <td>...</td>\n",
       "      <td>...</td>\n",
       "      <td>...</td>\n",
       "      <td>...</td>\n",
       "      <td>...</td>\n",
       "    </tr>\n",
       "    <tr>\n",
       "      <th>144</th>\n",
       "      <td>Lesotho</td>\n",
       "      <td>Sub-Saharan Africa</td>\n",
       "      <td>3.512</td>\n",
       "      <td>7.926</td>\n",
       "      <td>0.787</td>\n",
       "      <td>48.700</td>\n",
       "      <td>0.715</td>\n",
       "      <td>-0.131</td>\n",
       "      <td>0.915</td>\n",
       "      <td>0.451</td>\n",
       "      <td>0.731</td>\n",
       "      <td>0.007</td>\n",
       "      <td>0.405</td>\n",
       "      <td>0.103</td>\n",
       "      <td>0.015</td>\n",
       "      <td>1.800</td>\n",
       "    </tr>\n",
       "    <tr>\n",
       "      <th>145</th>\n",
       "      <td>Botswana</td>\n",
       "      <td>Sub-Saharan Africa</td>\n",
       "      <td>3.467</td>\n",
       "      <td>9.782</td>\n",
       "      <td>0.784</td>\n",
       "      <td>59.269</td>\n",
       "      <td>0.824</td>\n",
       "      <td>-0.246</td>\n",
       "      <td>0.801</td>\n",
       "      <td>1.099</td>\n",
       "      <td>0.724</td>\n",
       "      <td>0.340</td>\n",
       "      <td>0.539</td>\n",
       "      <td>0.027</td>\n",
       "      <td>0.088</td>\n",
       "      <td>0.648</td>\n",
       "    </tr>\n",
       "    <tr>\n",
       "      <th>146</th>\n",
       "      <td>Rwanda</td>\n",
       "      <td>Sub-Saharan Africa</td>\n",
       "      <td>3.415</td>\n",
       "      <td>7.676</td>\n",
       "      <td>0.552</td>\n",
       "      <td>61.400</td>\n",
       "      <td>0.897</td>\n",
       "      <td>0.061</td>\n",
       "      <td>0.167</td>\n",
       "      <td>0.364</td>\n",
       "      <td>0.202</td>\n",
       "      <td>0.407</td>\n",
       "      <td>0.627</td>\n",
       "      <td>0.227</td>\n",
       "      <td>0.493</td>\n",
       "      <td>1.095</td>\n",
       "    </tr>\n",
       "    <tr>\n",
       "      <th>147</th>\n",
       "      <td>Zimbabwe</td>\n",
       "      <td>Sub-Saharan Africa</td>\n",
       "      <td>3.145</td>\n",
       "      <td>7.943</td>\n",
       "      <td>0.750</td>\n",
       "      <td>56.201</td>\n",
       "      <td>0.677</td>\n",
       "      <td>-0.047</td>\n",
       "      <td>0.821</td>\n",
       "      <td>0.457</td>\n",
       "      <td>0.649</td>\n",
       "      <td>0.243</td>\n",
       "      <td>0.359</td>\n",
       "      <td>0.157</td>\n",
       "      <td>0.075</td>\n",
       "      <td>1.205</td>\n",
       "    </tr>\n",
       "    <tr>\n",
       "      <th>148</th>\n",
       "      <td>Afghanistan</td>\n",
       "      <td>South Asia</td>\n",
       "      <td>2.523</td>\n",
       "      <td>7.695</td>\n",
       "      <td>0.463</td>\n",
       "      <td>52.493</td>\n",
       "      <td>0.382</td>\n",
       "      <td>-0.102</td>\n",
       "      <td>0.924</td>\n",
       "      <td>0.370</td>\n",
       "      <td>0.000</td>\n",
       "      <td>0.126</td>\n",
       "      <td>0.000</td>\n",
       "      <td>0.122</td>\n",
       "      <td>0.010</td>\n",
       "      <td>1.895</td>\n",
       "    </tr>\n",
       "  </tbody>\n",
       "</table>\n",
       "<p>149 rows × 16 columns</p>\n",
       "</div>"
      ],
      "text/plain": [
       "    Country name  Regional indicator  Ladder score  Logged GDP per capita  \\\n",
       "0        Finland      Western Europe         7.842                 10.775   \n",
       "1        Denmark      Western Europe         7.620                 10.933   \n",
       "2    Switzerland      Western Europe         7.571                 11.117   \n",
       "3        Iceland      Western Europe         7.554                 10.878   \n",
       "4    Netherlands      Western Europe         7.464                 10.932   \n",
       "..           ...                 ...           ...                    ...   \n",
       "144      Lesotho  Sub-Saharan Africa         3.512                  7.926   \n",
       "145     Botswana  Sub-Saharan Africa         3.467                  9.782   \n",
       "146       Rwanda  Sub-Saharan Africa         3.415                  7.676   \n",
       "147     Zimbabwe  Sub-Saharan Africa         3.145                  7.943   \n",
       "148  Afghanistan          South Asia         2.523                  7.695   \n",
       "\n",
       "     Social support  Healthy life expectancy  Freedom to make life choices  \\\n",
       "0             0.954                   72.000                         0.949   \n",
       "1             0.954                   72.700                         0.946   \n",
       "2             0.942                   74.400                         0.919   \n",
       "3             0.983                   73.000                         0.955   \n",
       "4             0.942                   72.400                         0.913   \n",
       "..              ...                      ...                           ...   \n",
       "144           0.787                   48.700                         0.715   \n",
       "145           0.784                   59.269                         0.824   \n",
       "146           0.552                   61.400                         0.897   \n",
       "147           0.750                   56.201                         0.677   \n",
       "148           0.463                   52.493                         0.382   \n",
       "\n",
       "     Generosity  Perceptions of corruption  Explained by: Log GDP per capita  \\\n",
       "0        -0.098                      0.186                             1.446   \n",
       "1         0.030                      0.179                             1.502   \n",
       "2         0.025                      0.292                             1.566   \n",
       "3         0.160                      0.673                             1.482   \n",
       "4         0.175                      0.338                             1.501   \n",
       "..          ...                        ...                               ...   \n",
       "144      -0.131                      0.915                             0.451   \n",
       "145      -0.246                      0.801                             1.099   \n",
       "146       0.061                      0.167                             0.364   \n",
       "147      -0.047                      0.821                             0.457   \n",
       "148      -0.102                      0.924                             0.370   \n",
       "\n",
       "     Explained by: Social support  Explained by: Healthy life expectancy  \\\n",
       "0                           1.106                                  0.741   \n",
       "1                           1.108                                  0.763   \n",
       "2                           1.079                                  0.816   \n",
       "3                           1.172                                  0.772   \n",
       "4                           1.079                                  0.753   \n",
       "..                            ...                                    ...   \n",
       "144                         0.731                                  0.007   \n",
       "145                         0.724                                  0.340   \n",
       "146                         0.202                                  0.407   \n",
       "147                         0.649                                  0.243   \n",
       "148                         0.000                                  0.126   \n",
       "\n",
       "     Explained by: Freedom to make life choices  Explained by: Generosity  \\\n",
       "0                                         0.691                     0.124   \n",
       "1                                         0.686                     0.208   \n",
       "2                                         0.653                     0.204   \n",
       "3                                         0.698                     0.293   \n",
       "4                                         0.647                     0.302   \n",
       "..                                          ...                       ...   \n",
       "144                                       0.405                     0.103   \n",
       "145                                       0.539                     0.027   \n",
       "146                                       0.627                     0.227   \n",
       "147                                       0.359                     0.157   \n",
       "148                                       0.000                     0.122   \n",
       "\n",
       "     Explained by: Perceptions of corruption  Dystopia + residual  \n",
       "0                                      0.481                3.253  \n",
       "1                                      0.485                2.868  \n",
       "2                                      0.413                2.839  \n",
       "3                                      0.170                2.967  \n",
       "4                                      0.384                2.798  \n",
       "..                                       ...                  ...  \n",
       "144                                    0.015                1.800  \n",
       "145                                    0.088                0.648  \n",
       "146                                    0.493                1.095  \n",
       "147                                    0.075                1.205  \n",
       "148                                    0.010                1.895  \n",
       "\n",
       "[149 rows x 16 columns]"
      ]
     },
     "execution_count": 40,
     "metadata": {},
     "output_type": "execute_result"
    }
   ],
   "source": [
    "new_report=new_report.drop(new_report.columns[9],axis='columns')\n",
    "new_report"
   ]
  },
  {
   "cell_type": "code",
   "execution_count": 41,
   "id": "40df29f5",
   "metadata": {},
   "outputs": [
    {
     "data": {
      "text/html": [
       "<div>\n",
       "<style scoped>\n",
       "    .dataframe tbody tr th:only-of-type {\n",
       "        vertical-align: middle;\n",
       "    }\n",
       "\n",
       "    .dataframe tbody tr th {\n",
       "        vertical-align: top;\n",
       "    }\n",
       "\n",
       "    .dataframe thead th {\n",
       "        text-align: right;\n",
       "    }\n",
       "</style>\n",
       "<table border=\"1\" class=\"dataframe\">\n",
       "  <thead>\n",
       "    <tr style=\"text-align: right;\">\n",
       "      <th></th>\n",
       "      <th>Country name</th>\n",
       "      <th>Ladder score</th>\n",
       "      <th>Logged GDP per capita</th>\n",
       "      <th>Social support</th>\n",
       "      <th>Healthy life expectancy</th>\n",
       "      <th>Freedom to make life choices</th>\n",
       "      <th>Generosity</th>\n",
       "      <th>Perceptions of corruption</th>\n",
       "      <th>Explained by: Log GDP per capita</th>\n",
       "      <th>Explained by: Social support</th>\n",
       "      <th>...</th>\n",
       "      <th>Regional indicator_Central and Eastern Europe</th>\n",
       "      <th>Regional indicator_Commonwealth of Independent States</th>\n",
       "      <th>Regional indicator_East Asia</th>\n",
       "      <th>Regional indicator_Latin America and Caribbean</th>\n",
       "      <th>Regional indicator_Middle East and North Africa</th>\n",
       "      <th>Regional indicator_North America and ANZ</th>\n",
       "      <th>Regional indicator_South Asia</th>\n",
       "      <th>Regional indicator_Southeast Asia</th>\n",
       "      <th>Regional indicator_Sub-Saharan Africa</th>\n",
       "      <th>Regional indicator_Western Europe</th>\n",
       "    </tr>\n",
       "  </thead>\n",
       "  <tbody>\n",
       "    <tr>\n",
       "      <th>0</th>\n",
       "      <td>Finland</td>\n",
       "      <td>7.842</td>\n",
       "      <td>10.775</td>\n",
       "      <td>0.954</td>\n",
       "      <td>72.000</td>\n",
       "      <td>0.949</td>\n",
       "      <td>-0.098</td>\n",
       "      <td>0.186</td>\n",
       "      <td>1.446</td>\n",
       "      <td>1.106</td>\n",
       "      <td>...</td>\n",
       "      <td>0</td>\n",
       "      <td>0</td>\n",
       "      <td>0</td>\n",
       "      <td>0</td>\n",
       "      <td>0</td>\n",
       "      <td>0</td>\n",
       "      <td>0</td>\n",
       "      <td>0</td>\n",
       "      <td>0</td>\n",
       "      <td>1</td>\n",
       "    </tr>\n",
       "    <tr>\n",
       "      <th>1</th>\n",
       "      <td>Denmark</td>\n",
       "      <td>7.620</td>\n",
       "      <td>10.933</td>\n",
       "      <td>0.954</td>\n",
       "      <td>72.700</td>\n",
       "      <td>0.946</td>\n",
       "      <td>0.030</td>\n",
       "      <td>0.179</td>\n",
       "      <td>1.502</td>\n",
       "      <td>1.108</td>\n",
       "      <td>...</td>\n",
       "      <td>0</td>\n",
       "      <td>0</td>\n",
       "      <td>0</td>\n",
       "      <td>0</td>\n",
       "      <td>0</td>\n",
       "      <td>0</td>\n",
       "      <td>0</td>\n",
       "      <td>0</td>\n",
       "      <td>0</td>\n",
       "      <td>1</td>\n",
       "    </tr>\n",
       "    <tr>\n",
       "      <th>2</th>\n",
       "      <td>Switzerland</td>\n",
       "      <td>7.571</td>\n",
       "      <td>11.117</td>\n",
       "      <td>0.942</td>\n",
       "      <td>74.400</td>\n",
       "      <td>0.919</td>\n",
       "      <td>0.025</td>\n",
       "      <td>0.292</td>\n",
       "      <td>1.566</td>\n",
       "      <td>1.079</td>\n",
       "      <td>...</td>\n",
       "      <td>0</td>\n",
       "      <td>0</td>\n",
       "      <td>0</td>\n",
       "      <td>0</td>\n",
       "      <td>0</td>\n",
       "      <td>0</td>\n",
       "      <td>0</td>\n",
       "      <td>0</td>\n",
       "      <td>0</td>\n",
       "      <td>1</td>\n",
       "    </tr>\n",
       "    <tr>\n",
       "      <th>3</th>\n",
       "      <td>Iceland</td>\n",
       "      <td>7.554</td>\n",
       "      <td>10.878</td>\n",
       "      <td>0.983</td>\n",
       "      <td>73.000</td>\n",
       "      <td>0.955</td>\n",
       "      <td>0.160</td>\n",
       "      <td>0.673</td>\n",
       "      <td>1.482</td>\n",
       "      <td>1.172</td>\n",
       "      <td>...</td>\n",
       "      <td>0</td>\n",
       "      <td>0</td>\n",
       "      <td>0</td>\n",
       "      <td>0</td>\n",
       "      <td>0</td>\n",
       "      <td>0</td>\n",
       "      <td>0</td>\n",
       "      <td>0</td>\n",
       "      <td>0</td>\n",
       "      <td>1</td>\n",
       "    </tr>\n",
       "    <tr>\n",
       "      <th>4</th>\n",
       "      <td>Netherlands</td>\n",
       "      <td>7.464</td>\n",
       "      <td>10.932</td>\n",
       "      <td>0.942</td>\n",
       "      <td>72.400</td>\n",
       "      <td>0.913</td>\n",
       "      <td>0.175</td>\n",
       "      <td>0.338</td>\n",
       "      <td>1.501</td>\n",
       "      <td>1.079</td>\n",
       "      <td>...</td>\n",
       "      <td>0</td>\n",
       "      <td>0</td>\n",
       "      <td>0</td>\n",
       "      <td>0</td>\n",
       "      <td>0</td>\n",
       "      <td>0</td>\n",
       "      <td>0</td>\n",
       "      <td>0</td>\n",
       "      <td>0</td>\n",
       "      <td>1</td>\n",
       "    </tr>\n",
       "    <tr>\n",
       "      <th>...</th>\n",
       "      <td>...</td>\n",
       "      <td>...</td>\n",
       "      <td>...</td>\n",
       "      <td>...</td>\n",
       "      <td>...</td>\n",
       "      <td>...</td>\n",
       "      <td>...</td>\n",
       "      <td>...</td>\n",
       "      <td>...</td>\n",
       "      <td>...</td>\n",
       "      <td>...</td>\n",
       "      <td>...</td>\n",
       "      <td>...</td>\n",
       "      <td>...</td>\n",
       "      <td>...</td>\n",
       "      <td>...</td>\n",
       "      <td>...</td>\n",
       "      <td>...</td>\n",
       "      <td>...</td>\n",
       "      <td>...</td>\n",
       "      <td>...</td>\n",
       "    </tr>\n",
       "    <tr>\n",
       "      <th>144</th>\n",
       "      <td>Lesotho</td>\n",
       "      <td>3.512</td>\n",
       "      <td>7.926</td>\n",
       "      <td>0.787</td>\n",
       "      <td>48.700</td>\n",
       "      <td>0.715</td>\n",
       "      <td>-0.131</td>\n",
       "      <td>0.915</td>\n",
       "      <td>0.451</td>\n",
       "      <td>0.731</td>\n",
       "      <td>...</td>\n",
       "      <td>0</td>\n",
       "      <td>0</td>\n",
       "      <td>0</td>\n",
       "      <td>0</td>\n",
       "      <td>0</td>\n",
       "      <td>0</td>\n",
       "      <td>0</td>\n",
       "      <td>0</td>\n",
       "      <td>1</td>\n",
       "      <td>0</td>\n",
       "    </tr>\n",
       "    <tr>\n",
       "      <th>145</th>\n",
       "      <td>Botswana</td>\n",
       "      <td>3.467</td>\n",
       "      <td>9.782</td>\n",
       "      <td>0.784</td>\n",
       "      <td>59.269</td>\n",
       "      <td>0.824</td>\n",
       "      <td>-0.246</td>\n",
       "      <td>0.801</td>\n",
       "      <td>1.099</td>\n",
       "      <td>0.724</td>\n",
       "      <td>...</td>\n",
       "      <td>0</td>\n",
       "      <td>0</td>\n",
       "      <td>0</td>\n",
       "      <td>0</td>\n",
       "      <td>0</td>\n",
       "      <td>0</td>\n",
       "      <td>0</td>\n",
       "      <td>0</td>\n",
       "      <td>1</td>\n",
       "      <td>0</td>\n",
       "    </tr>\n",
       "    <tr>\n",
       "      <th>146</th>\n",
       "      <td>Rwanda</td>\n",
       "      <td>3.415</td>\n",
       "      <td>7.676</td>\n",
       "      <td>0.552</td>\n",
       "      <td>61.400</td>\n",
       "      <td>0.897</td>\n",
       "      <td>0.061</td>\n",
       "      <td>0.167</td>\n",
       "      <td>0.364</td>\n",
       "      <td>0.202</td>\n",
       "      <td>...</td>\n",
       "      <td>0</td>\n",
       "      <td>0</td>\n",
       "      <td>0</td>\n",
       "      <td>0</td>\n",
       "      <td>0</td>\n",
       "      <td>0</td>\n",
       "      <td>0</td>\n",
       "      <td>0</td>\n",
       "      <td>1</td>\n",
       "      <td>0</td>\n",
       "    </tr>\n",
       "    <tr>\n",
       "      <th>147</th>\n",
       "      <td>Zimbabwe</td>\n",
       "      <td>3.145</td>\n",
       "      <td>7.943</td>\n",
       "      <td>0.750</td>\n",
       "      <td>56.201</td>\n",
       "      <td>0.677</td>\n",
       "      <td>-0.047</td>\n",
       "      <td>0.821</td>\n",
       "      <td>0.457</td>\n",
       "      <td>0.649</td>\n",
       "      <td>...</td>\n",
       "      <td>0</td>\n",
       "      <td>0</td>\n",
       "      <td>0</td>\n",
       "      <td>0</td>\n",
       "      <td>0</td>\n",
       "      <td>0</td>\n",
       "      <td>0</td>\n",
       "      <td>0</td>\n",
       "      <td>1</td>\n",
       "      <td>0</td>\n",
       "    </tr>\n",
       "    <tr>\n",
       "      <th>148</th>\n",
       "      <td>Afghanistan</td>\n",
       "      <td>2.523</td>\n",
       "      <td>7.695</td>\n",
       "      <td>0.463</td>\n",
       "      <td>52.493</td>\n",
       "      <td>0.382</td>\n",
       "      <td>-0.102</td>\n",
       "      <td>0.924</td>\n",
       "      <td>0.370</td>\n",
       "      <td>0.000</td>\n",
       "      <td>...</td>\n",
       "      <td>0</td>\n",
       "      <td>0</td>\n",
       "      <td>0</td>\n",
       "      <td>0</td>\n",
       "      <td>0</td>\n",
       "      <td>0</td>\n",
       "      <td>1</td>\n",
       "      <td>0</td>\n",
       "      <td>0</td>\n",
       "      <td>0</td>\n",
       "    </tr>\n",
       "  </tbody>\n",
       "</table>\n",
       "<p>149 rows × 25 columns</p>\n",
       "</div>"
      ],
      "text/plain": [
       "    Country name  Ladder score  Logged GDP per capita  Social support  \\\n",
       "0        Finland         7.842                 10.775           0.954   \n",
       "1        Denmark         7.620                 10.933           0.954   \n",
       "2    Switzerland         7.571                 11.117           0.942   \n",
       "3        Iceland         7.554                 10.878           0.983   \n",
       "4    Netherlands         7.464                 10.932           0.942   \n",
       "..           ...           ...                    ...             ...   \n",
       "144      Lesotho         3.512                  7.926           0.787   \n",
       "145     Botswana         3.467                  9.782           0.784   \n",
       "146       Rwanda         3.415                  7.676           0.552   \n",
       "147     Zimbabwe         3.145                  7.943           0.750   \n",
       "148  Afghanistan         2.523                  7.695           0.463   \n",
       "\n",
       "     Healthy life expectancy  Freedom to make life choices  Generosity  \\\n",
       "0                     72.000                         0.949      -0.098   \n",
       "1                     72.700                         0.946       0.030   \n",
       "2                     74.400                         0.919       0.025   \n",
       "3                     73.000                         0.955       0.160   \n",
       "4                     72.400                         0.913       0.175   \n",
       "..                       ...                           ...         ...   \n",
       "144                   48.700                         0.715      -0.131   \n",
       "145                   59.269                         0.824      -0.246   \n",
       "146                   61.400                         0.897       0.061   \n",
       "147                   56.201                         0.677      -0.047   \n",
       "148                   52.493                         0.382      -0.102   \n",
       "\n",
       "     Perceptions of corruption  Explained by: Log GDP per capita  \\\n",
       "0                        0.186                             1.446   \n",
       "1                        0.179                             1.502   \n",
       "2                        0.292                             1.566   \n",
       "3                        0.673                             1.482   \n",
       "4                        0.338                             1.501   \n",
       "..                         ...                               ...   \n",
       "144                      0.915                             0.451   \n",
       "145                      0.801                             1.099   \n",
       "146                      0.167                             0.364   \n",
       "147                      0.821                             0.457   \n",
       "148                      0.924                             0.370   \n",
       "\n",
       "     Explained by: Social support  ...  \\\n",
       "0                           1.106  ...   \n",
       "1                           1.108  ...   \n",
       "2                           1.079  ...   \n",
       "3                           1.172  ...   \n",
       "4                           1.079  ...   \n",
       "..                            ...  ...   \n",
       "144                         0.731  ...   \n",
       "145                         0.724  ...   \n",
       "146                         0.202  ...   \n",
       "147                         0.649  ...   \n",
       "148                         0.000  ...   \n",
       "\n",
       "     Regional indicator_Central and Eastern Europe  \\\n",
       "0                                                0   \n",
       "1                                                0   \n",
       "2                                                0   \n",
       "3                                                0   \n",
       "4                                                0   \n",
       "..                                             ...   \n",
       "144                                              0   \n",
       "145                                              0   \n",
       "146                                              0   \n",
       "147                                              0   \n",
       "148                                              0   \n",
       "\n",
       "     Regional indicator_Commonwealth of Independent States  \\\n",
       "0                                                    0       \n",
       "1                                                    0       \n",
       "2                                                    0       \n",
       "3                                                    0       \n",
       "4                                                    0       \n",
       "..                                                 ...       \n",
       "144                                                  0       \n",
       "145                                                  0       \n",
       "146                                                  0       \n",
       "147                                                  0       \n",
       "148                                                  0       \n",
       "\n",
       "     Regional indicator_East Asia  \\\n",
       "0                               0   \n",
       "1                               0   \n",
       "2                               0   \n",
       "3                               0   \n",
       "4                               0   \n",
       "..                            ...   \n",
       "144                             0   \n",
       "145                             0   \n",
       "146                             0   \n",
       "147                             0   \n",
       "148                             0   \n",
       "\n",
       "     Regional indicator_Latin America and Caribbean  \\\n",
       "0                                                 0   \n",
       "1                                                 0   \n",
       "2                                                 0   \n",
       "3                                                 0   \n",
       "4                                                 0   \n",
       "..                                              ...   \n",
       "144                                               0   \n",
       "145                                               0   \n",
       "146                                               0   \n",
       "147                                               0   \n",
       "148                                               0   \n",
       "\n",
       "     Regional indicator_Middle East and North Africa  \\\n",
       "0                                                  0   \n",
       "1                                                  0   \n",
       "2                                                  0   \n",
       "3                                                  0   \n",
       "4                                                  0   \n",
       "..                                               ...   \n",
       "144                                                0   \n",
       "145                                                0   \n",
       "146                                                0   \n",
       "147                                                0   \n",
       "148                                                0   \n",
       "\n",
       "     Regional indicator_North America and ANZ  Regional indicator_South Asia  \\\n",
       "0                                           0                              0   \n",
       "1                                           0                              0   \n",
       "2                                           0                              0   \n",
       "3                                           0                              0   \n",
       "4                                           0                              0   \n",
       "..                                        ...                            ...   \n",
       "144                                         0                              0   \n",
       "145                                         0                              0   \n",
       "146                                         0                              0   \n",
       "147                                         0                              0   \n",
       "148                                         0                              1   \n",
       "\n",
       "     Regional indicator_Southeast Asia  Regional indicator_Sub-Saharan Africa  \\\n",
       "0                                    0                                      0   \n",
       "1                                    0                                      0   \n",
       "2                                    0                                      0   \n",
       "3                                    0                                      0   \n",
       "4                                    0                                      0   \n",
       "..                                 ...                                    ...   \n",
       "144                                  0                                      1   \n",
       "145                                  0                                      1   \n",
       "146                                  0                                      1   \n",
       "147                                  0                                      1   \n",
       "148                                  0                                      0   \n",
       "\n",
       "     Regional indicator_Western Europe  \n",
       "0                                    1  \n",
       "1                                    1  \n",
       "2                                    1  \n",
       "3                                    1  \n",
       "4                                    1  \n",
       "..                                 ...  \n",
       "144                                  0  \n",
       "145                                  0  \n",
       "146                                  0  \n",
       "147                                  0  \n",
       "148                                  0  \n",
       "\n",
       "[149 rows x 25 columns]"
      ]
     },
     "execution_count": 41,
     "metadata": {},
     "output_type": "execute_result"
    }
   ],
   "source": [
    "df=pd.get_dummies(data=new_report, columns=['Regional indicator'])\n",
    "df"
   ]
  },
  {
   "cell_type": "code",
   "execution_count": 42,
   "id": "780d4873",
   "metadata": {},
   "outputs": [],
   "source": [
    "X=df.iloc[:,2:8]\n",
    "y=df.iloc[:,1]\n",
    "X=pd.DataFrame(X, columns = ['Logged GDP per capita','Social support','Healthy life expectancy','Freedom to make life choices','Generosity','Perceptions of corruption'])\n",
    "y=pd.DataFrame(y, columns=['Ladder score'])"
   ]
  },
  {
   "cell_type": "code",
   "execution_count": 43,
   "id": "41d4ed02",
   "metadata": {},
   "outputs": [
    {
     "name": "stdout",
     "output_type": "stream",
     "text": [
      "     Logged GDP per capita  Social support  Healthy life expectancy  \\\n",
      "0                 1.162885        1.216171                 1.039750   \n",
      "1                 1.299717        1.216171                 1.143618   \n",
      "2                 1.459064        1.111370                 1.395869   \n",
      "3                 1.252086        1.469440                 1.188133   \n",
      "4                 1.298851        1.111370                 1.099103   \n",
      "..                     ...             ...                      ...   \n",
      "144              -1.304407       -0.242308                -2.417575   \n",
      "145               0.302927       -0.268508                -0.849315   \n",
      "146              -1.520912       -2.294659                -0.533110   \n",
      "147              -1.289685       -0.565444                -1.304554   \n",
      "148              -1.504458       -3.071932                -1.854758   \n",
      "\n",
      "     Freedom to make life choices  Generosity  Perceptions of corruption  \n",
      "0                        1.393550   -0.551886                  -3.031228  \n",
      "1                        1.366990    0.300594                  -3.070416  \n",
      "2                        1.127948    0.267294                  -2.437802  \n",
      "3                        1.446671    1.166393                  -0.304829  \n",
      "4                        1.074828    1.266293                  -2.180278  \n",
      "..                            ...         ...                        ...  \n",
      "144                     -0.678147   -0.771665                   1.049973  \n",
      "145                      0.286874   -1.537565                   0.411761  \n",
      "146                      0.933173    0.507053                  -3.137597  \n",
      "147                     -1.014577   -0.212226                   0.523728  \n",
      "148                     -3.626333   -0.578526                   1.100359  \n",
      "\n",
      "[149 rows x 6 columns]\n",
      "     Ladder score\n",
      "0        2.157462\n",
      "1        1.950046\n",
      "2        1.904265\n",
      "3        1.888382\n",
      "4        1.804294\n",
      "..            ...\n",
      "144     -1.888081\n",
      "145     -1.930125\n",
      "146     -1.978709\n",
      "147     -2.230971\n",
      "148     -2.812109\n",
      "\n",
      "[149 rows x 1 columns]\n"
     ]
    }
   ],
   "source": [
    "#scaling the dataset\n",
    "from sklearn.preprocessing import StandardScaler\n",
    "scaler=StandardScaler()\n",
    "scaler.fit(X)\n",
    "X=scaler.transform(X)\n",
    "scaler.fit(y)\n",
    "y=scaler.transform(y)\n",
    "X=pd.DataFrame(X, columns = ['Logged GDP per capita','Social support','Healthy life expectancy','Freedom to make life choices','Generosity','Perceptions of corruption'])\n",
    "y=pd.DataFrame(y, columns=['Ladder score'])\n",
    "print(X)\n",
    "print(y)"
   ]
  },
  {
   "cell_type": "code",
   "execution_count": 44,
   "id": "459a07ae",
   "metadata": {},
   "outputs": [],
   "source": [
    "from sklearn.model_selection import train_test_split\n",
    "train_X,test_X,train_y,test_y=train_test_split(X,y,test_size=0.2,random_state=23) "
   ]
  },
  {
   "cell_type": "code",
   "execution_count": 45,
   "id": "d990815a",
   "metadata": {},
   "outputs": [
    {
     "data": {
      "text/plain": [
       "PCA(n_components=0.95)"
      ]
     },
     "execution_count": 45,
     "metadata": {},
     "output_type": "execute_result"
    }
   ],
   "source": [
    "from sklearn.decomposition import PCA\n",
    "pca=PCA(.95)\n",
    "pca.fit(train_X)"
   ]
  },
  {
   "cell_type": "code",
   "execution_count": 46,
   "id": "50fbf43c",
   "metadata": {
    "pycharm": {
     "name": "#%%\n"
    }
   },
   "outputs": [],
   "source": [
    "train_img=pca.transform(train_X)\n",
    "test_img=pca.transform(test_X)"
   ]
  },
  {
   "cell_type": "code",
   "execution_count": 47,
   "id": "36bfc1b8",
   "metadata": {},
   "outputs": [
    {
     "name": "stdout",
     "output_type": "stream",
     "text": [
      "score:  0.792070299004668\n",
      "MSE:  0.2189284061916234\n",
      "RMSE:  0.047929647037604446\n"
     ]
    }
   ],
   "source": [
    "from sklearn.model_selection import train_test_split\n",
    "from sklearn.linear_model import LinearRegression\n",
    "from sklearn.metrics import mean_squared_error\n",
    "\n",
    "#Multiple Linear Regression Model Using all features\n",
    "lin = LinearRegression()\n",
    "lin.fit(train_X, train_y) \n",
    "predict = lin.predict(test_X)\n",
    "\n",
    "#Evaluate the model\n",
    "print('score: ', lin.score(test_X, test_y))\n",
    "print('MSE: ',mean_squared_error(predict, test_y))\n",
    "print('RMSE: ',mean_squared_error(predict, test_y)**2)"
   ]
  },
  {
   "cell_type": "code",
   "execution_count": 48,
   "id": "25a9ed87",
   "metadata": {},
   "outputs": [
    {
     "data": {
      "image/png": "[encoded data removed]",
      "text/plain": [
       "<Figure size 432x288 with 1 Axes>"
      ]
     },
     "metadata": {},
     "output_type": "display_data"
    },
    {
     "data": {
      "image/png": "[encoded data removed]",
      "text/plain": [
       "<Figure size 432x288 with 1 Axes>"
      ]
     },
     "metadata": {},
     "output_type": "display_data"
    },
    {
     "name": "stdout",
     "output_type": "stream",
     "text": [
      "score:  0.5386512857376092\n",
      "MSE:  0.34629768325864146\n",
      "RMSE:  0.11992208543030237\n"
     ]
    }
   ],
   "source": [
    "#Linear Regression Model using The top 3 Best Scored in Select K best -> GDP, Healthyness , Social Support\n",
    "#1. GDP\n",
    "a=X['Logged GDP per capita']\n",
    "b=y['Ladder score']\n",
    "\n",
    "from sklearn.model_selection import train_test_split\n",
    "train_a,test_a,train_b,test_b=train_test_split(a,b,test_size=0.2,random_state=24) \n",
    "\n",
    "plt.plot(train_a,train_b,'o')\n",
    "plt.show()\n",
    "\n",
    "line_fitter = LinearRegression()\n",
    "line_fitter.fit(train_a.values.reshape(-1,1), train_b)\n",
    "predict = line_fitter.predict(test_a.values.reshape(-1,1))\n",
    "\n",
    "plt.plot(test_a, test_a, 'o')\n",
    "plt.plot(test_a,line_fitter.predict(test_a.values.reshape(-1,1)))\n",
    "plt.show()\n",
    "#Evaluate the model\n",
    "print('score: ', line_fitter.score(test_a.values.reshape(-1,1), test_b.values.reshape(-1,1)))\n",
    "print('MSE: ',mean_squared_error(predict, test_b.values.reshape(-1,1)))\n",
    "print('RMSE: ',mean_squared_error(predict, test_b.values.reshape(-1,1))**2)"
   ]
  },
  {
   "cell_type": "code",
   "execution_count": 49,
   "id": "bb6acd8f",
   "metadata": {},
   "outputs": [
    {
     "data": {
      "image/png": "[encoded data removed]",
      "text/plain": [
       "<Figure size 432x288 with 1 Axes>"
      ]
     },
     "metadata": {},
     "output_type": "display_data"
    },
    {
     "data": {
      "image/png": "[encoded data removed]",
      "text/plain": [
       "<Figure size 432x288 with 1 Axes>"
      ]
     },
     "metadata": {},
     "output_type": "display_data"
    },
    {
     "name": "stdout",
     "output_type": "stream",
     "text": [
      "score:  0.39485884174318153\n",
      "MSE:  0.4542312022779391\n",
      "RMSE:  0.20632598512286204\n"
     ]
    }
   ],
   "source": [
    "#2. Healthyness\n",
    "a=X['Healthy life expectancy']\n",
    "b=y['Ladder score']\n",
    "\n",
    "from sklearn.model_selection import train_test_split\n",
    "train_a,test_a,train_b,test_b=train_test_split(a,b,test_size=0.2,random_state=24) \n",
    "\n",
    "plt.plot(train_a,train_b,'o')\n",
    "plt.show()\n",
    "\n",
    "line_fitter = LinearRegression()\n",
    "line_fitter.fit(train_a.values.reshape(-1,1), train_b)\n",
    "predict = line_fitter.predict(test_a.values.reshape(-1,1))\n",
    "\n",
    "plt.plot(test_a, test_a, 'o')\n",
    "plt.plot(test_a,line_fitter.predict(test_a.values.reshape(-1,1)))\n",
    "plt.show()\n",
    "#Evaluate the model\n",
    "print('score: ', line_fitter.score(test_a.values.reshape(-1,1), test_b.values.reshape(-1,1)))\n",
    "print('MSE: ',mean_squared_error(predict, test_b.values.reshape(-1,1)))\n",
    "print('RMSE: ',mean_squared_error(predict, test_b.values.reshape(-1,1))**2)"
   ]
  },
  {
   "cell_type": "code",
   "execution_count": 50,
   "id": "0c8a0d88",
   "metadata": {},
   "outputs": [
    {
     "data": {
      "image/png": "[encoded data removed]",
      "text/plain": [
       "<Figure size 432x288 with 1 Axes>"
      ]
     },
     "metadata": {},
     "output_type": "display_data"
    },
    {
     "data": {
      "image/png": "[encoded data removed]",
      "text/plain": [
       "<Figure size 432x288 with 1 Axes>"
      ]
     },
     "metadata": {},
     "output_type": "display_data"
    },
    {
     "name": "stdout",
     "output_type": "stream",
     "text": [
      "score:  0.4525671185080128\n",
      "MSE:  0.5487550273280133\n",
      "RMSE:  0.3011320800177686\n"
     ]
    }
   ],
   "source": [
    "#3. Social support\n",
    "a=X['Social support']\n",
    "b=y['Ladder score']\n",
    "\n",
    "from sklearn.model_selection import train_test_split\n",
    "train_a,test_a,train_b,test_b=train_test_split(a,b,test_size=0.2,random_state=22) \n",
    "\n",
    "plt.plot(train_a,train_b,'o')\n",
    "plt.show()\n",
    "\n",
    "line_fitter = LinearRegression()\n",
    "line_fitter.fit(train_a.values.reshape(-1,1), train_b)\n",
    "predict = line_fitter.predict(test_a.values.reshape(-1,1))\n",
    "\n",
    "plt.plot(test_a, test_a, 'o')\n",
    "plt.plot(test_a,line_fitter.predict(test_a.values.reshape(-1,1)))\n",
    "plt.show()\n",
    "#Evaluate the model\n",
    "print('score: ', line_fitter.score(test_a.values.reshape(-1,1), test_b.values.reshape(-1,1)))\n",
    "print('MSE: ',mean_squared_error(predict, test_b.values.reshape(-1,1)))\n",
    "print('RMSE: ',mean_squared_error(predict, test_b.values.reshape(-1,1))**2)"
   ]
  }
 ],
 "metadata": {
  "kernelspec": {
   "display_name": "Python 3 (ipykernel)",
   "language": "python",
   "name": "python3"
  },
  "language_info": {
   "codemirror_mode": {
    "name": "ipython",
    "version": 3
   },
   "file_extension": ".py",
   "mimetype": "text/x-python",
   "name": "python",
   "nbconvert_exporter": "python",
   "pygments_lexer": "ipython3",
   "version": "3.7.0"
  }
 },
 "nbformat": 4,
 "nbformat_minor": 5
}
