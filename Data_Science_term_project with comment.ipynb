{
 "cells": [
  {
   "cell_type": "code",
   "execution_count": 217,
   "id": "dac7842a",
   "metadata": {},
   "outputs": [],
   "source": [
    "# According to World Happiness Report in 2021, Korea shows low ladder score of happiness compare to other country with high GDP rank.\n",
    "# We wondered why Korea is not so happy according to the report. And we want to know if we can be more happier.\n",
    "# So we decided to analyze how and what variables are being used to calculate our happiness."
   ]
  },
  {
   "cell_type": "code",
   "execution_count": 218,
   "id": "d5766bdd",
   "metadata": {},
   "outputs": [],
   "source": [
    "import numpy as np\n",
    "import pandas as pd\n",
    "import seaborn as sns\n",
    "import matplotlib.pyplot as plt\n",
    "from sklearn import linear_model\n",
    "from sklearn.feature_selection import SelectKBest\n",
    "from sklearn.feature_selection import f_regression\n",
    "from sklearn.model_selection import train_test_split\n",
    "from sklearn.preprocessing import StandardScaler, RobustScaler, minmax_scale\n",
    "from sklearn .cluster import KMeans\n",
    "from sklearn.metrics import silhouette_samples, silhouette_score\n",
    "from plotly.offline import iplot\n",
    "import plotly.graph_objs as go\n",
    "from sklearn import tree\n",
    "from sklearn.tree import DecisionTreeRegressor\n",
    "from sklearn.model_selection import GridSearchCV\n",
    "from sklearn.neighbors import KNeighborsRegressor\n",
    "from sklearn.linear_model import LinearRegression\n",
    "from sklearn.metrics import mean_squared_error"
   ]
  },
  {
   "cell_type": "code",
   "execution_count": 219,
   "id": "973014c0",
   "metadata": {
    "scrolled": false
   },
   "outputs": [
    {
     "data": {
      "text/plain": "    Country name  Regional indicator  Ladder score  \\\n0        Finland      Western Europe         7.842   \n1        Denmark      Western Europe         7.620   \n2    Switzerland      Western Europe         7.571   \n3        Iceland      Western Europe         7.554   \n4    Netherlands      Western Europe         7.464   \n..           ...                 ...           ...   \n144      Lesotho  Sub-Saharan Africa         3.512   \n145     Botswana  Sub-Saharan Africa         3.467   \n146       Rwanda  Sub-Saharan Africa         3.415   \n147     Zimbabwe  Sub-Saharan Africa         3.145   \n148  Afghanistan          South Asia         2.523   \n\n     Standard error of ladder score  upperwhisker  lowerwhisker  \\\n0                             0.032         7.904         7.780   \n1                             0.035         7.687         7.552   \n2                             0.036         7.643         7.500   \n3                             0.059         7.670         7.438   \n4                             0.027         7.518         7.410   \n..                              ...           ...           ...   \n144                           0.120         3.748         3.276   \n145                           0.074         3.611         3.322   \n146                           0.068         3.548         3.282   \n147                           0.058         3.259         3.030   \n148                           0.038         2.596         2.449   \n\n     Logged GDP per capita  Social support  Healthy life expectancy  \\\n0                   10.775           0.954                   72.000   \n1                   10.933           0.954                   72.700   \n2                   11.117           0.942                   74.400   \n3                   10.878           0.983                   73.000   \n4                   10.932           0.942                   72.400   \n..                     ...             ...                      ...   \n144                  7.926           0.787                   48.700   \n145                  9.782           0.784                   59.269   \n146                  7.676           0.552                   61.400   \n147                  7.943           0.750                   56.201   \n148                  7.695           0.463                   52.493   \n\n     Freedom to make life choices  Generosity  Perceptions of corruption  \\\n0                           0.949      -0.098                      0.186   \n1                           0.946       0.030                      0.179   \n2                           0.919       0.025                      0.292   \n3                           0.955       0.160                      0.673   \n4                           0.913       0.175                      0.338   \n..                            ...         ...                        ...   \n144                         0.715      -0.131                      0.915   \n145                         0.824      -0.246                      0.801   \n146                         0.897       0.061                      0.167   \n147                         0.677      -0.047                      0.821   \n148                         0.382      -0.102                      0.924   \n\n     Ladder score in Dystopia  Explained by: Log GDP per capita  \\\n0                        2.43                             1.446   \n1                        2.43                             1.502   \n2                        2.43                             1.566   \n3                        2.43                             1.482   \n4                        2.43                             1.501   \n..                        ...                               ...   \n144                      2.43                             0.451   \n145                      2.43                             1.099   \n146                      2.43                             0.364   \n147                      2.43                             0.457   \n148                      2.43                             0.370   \n\n     Explained by: Social support  Explained by: Healthy life expectancy  \\\n0                           1.106                                  0.741   \n1                           1.108                                  0.763   \n2                           1.079                                  0.816   \n3                           1.172                                  0.772   \n4                           1.079                                  0.753   \n..                            ...                                    ...   \n144                         0.731                                  0.007   \n145                         0.724                                  0.340   \n146                         0.202                                  0.407   \n147                         0.649                                  0.243   \n148                         0.000                                  0.126   \n\n     Explained by: Freedom to make life choices  Explained by: Generosity  \\\n0                                         0.691                     0.124   \n1                                         0.686                     0.208   \n2                                         0.653                     0.204   \n3                                         0.698                     0.293   \n4                                         0.647                     0.302   \n..                                          ...                       ...   \n144                                       0.405                     0.103   \n145                                       0.539                     0.027   \n146                                       0.627                     0.227   \n147                                       0.359                     0.157   \n148                                       0.000                     0.122   \n\n     Explained by: Perceptions of corruption  Dystopia + residual  \n0                                      0.481                3.253  \n1                                      0.485                2.868  \n2                                      0.413                2.839  \n3                                      0.170                2.967  \n4                                      0.384                2.798  \n..                                       ...                  ...  \n144                                    0.015                1.800  \n145                                    0.088                0.648  \n146                                    0.493                1.095  \n147                                    0.075                1.205  \n148                                    0.010                1.895  \n\n[149 rows x 20 columns]",
      "text/html": "<div>\n<style scoped>\n    .dataframe tbody tr th:only-of-type {\n        vertical-align: middle;\n    }\n\n    .dataframe tbody tr th {\n        vertical-align: top;\n    }\n\n    .dataframe thead th {\n        text-align: right;\n    }\n</style>\n<table border=\"1\" class=\"dataframe\">\n  <thead>\n    <tr style=\"text-align: right;\">\n      <th></th>\n      <th>Country name</th>\n      <th>Regional indicator</th>\n      <th>Ladder score</th>\n      <th>Standard error of ladder score</th>\n      <th>upperwhisker</th>\n      <th>lowerwhisker</th>\n      <th>Logged GDP per capita</th>\n      <th>Social support</th>\n      <th>Healthy life expectancy</th>\n      <th>Freedom to make life choices</th>\n      <th>Generosity</th>\n      <th>Perceptions of corruption</th>\n      <th>Ladder score in Dystopia</th>\n      <th>Explained by: Log GDP per capita</th>\n      <th>Explained by: Social support</th>\n      <th>Explained by: Healthy life expectancy</th>\n      <th>Explained by: Freedom to make life choices</th>\n      <th>Explained by: Generosity</th>\n      <th>Explained by: Perceptions of corruption</th>\n      <th>Dystopia + residual</th>\n    </tr>\n  </thead>\n  <tbody>\n    <tr>\n      <th>0</th>\n      <td>Finland</td>\n      <td>Western Europe</td>\n      <td>7.842</td>\n      <td>0.032</td>\n      <td>7.904</td>\n      <td>7.780</td>\n      <td>10.775</td>\n      <td>0.954</td>\n      <td>72.000</td>\n      <td>0.949</td>\n      <td>-0.098</td>\n      <td>0.186</td>\n      <td>2.43</td>\n      <td>1.446</td>\n      <td>1.106</td>\n      <td>0.741</td>\n      <td>0.691</td>\n      <td>0.124</td>\n      <td>0.481</td>\n      <td>3.253</td>\n    </tr>\n    <tr>\n      <th>1</th>\n      <td>Denmark</td>\n      <td>Western Europe</td>\n      <td>7.620</td>\n      <td>0.035</td>\n      <td>7.687</td>\n      <td>7.552</td>\n      <td>10.933</td>\n      <td>0.954</td>\n      <td>72.700</td>\n      <td>0.946</td>\n      <td>0.030</td>\n      <td>0.179</td>\n      <td>2.43</td>\n      <td>1.502</td>\n      <td>1.108</td>\n      <td>0.763</td>\n      <td>0.686</td>\n      <td>0.208</td>\n      <td>0.485</td>\n      <td>2.868</td>\n    </tr>\n    <tr>\n      <th>2</th>\n      <td>Switzerland</td>\n      <td>Western Europe</td>\n      <td>7.571</td>\n      <td>0.036</td>\n      <td>7.643</td>\n      <td>7.500</td>\n      <td>11.117</td>\n      <td>0.942</td>\n      <td>74.400</td>\n      <td>0.919</td>\n      <td>0.025</td>\n      <td>0.292</td>\n      <td>2.43</td>\n      <td>1.566</td>\n      <td>1.079</td>\n      <td>0.816</td>\n      <td>0.653</td>\n      <td>0.204</td>\n      <td>0.413</td>\n      <td>2.839</td>\n    </tr>\n    <tr>\n      <th>3</th>\n      <td>Iceland</td>\n      <td>Western Europe</td>\n      <td>7.554</td>\n      <td>0.059</td>\n      <td>7.670</td>\n      <td>7.438</td>\n      <td>10.878</td>\n      <td>0.983</td>\n      <td>73.000</td>\n      <td>0.955</td>\n      <td>0.160</td>\n      <td>0.673</td>\n      <td>2.43</td>\n      <td>1.482</td>\n      <td>1.172</td>\n      <td>0.772</td>\n      <td>0.698</td>\n      <td>0.293</td>\n      <td>0.170</td>\n      <td>2.967</td>\n    </tr>\n    <tr>\n      <th>4</th>\n      <td>Netherlands</td>\n      <td>Western Europe</td>\n      <td>7.464</td>\n      <td>0.027</td>\n      <td>7.518</td>\n      <td>7.410</td>\n      <td>10.932</td>\n      <td>0.942</td>\n      <td>72.400</td>\n      <td>0.913</td>\n      <td>0.175</td>\n      <td>0.338</td>\n      <td>2.43</td>\n      <td>1.501</td>\n      <td>1.079</td>\n      <td>0.753</td>\n      <td>0.647</td>\n      <td>0.302</td>\n      <td>0.384</td>\n      <td>2.798</td>\n    </tr>\n    <tr>\n      <th>...</th>\n      <td>...</td>\n      <td>...</td>\n      <td>...</td>\n      <td>...</td>\n      <td>...</td>\n      <td>...</td>\n      <td>...</td>\n      <td>...</td>\n      <td>...</td>\n      <td>...</td>\n      <td>...</td>\n      <td>...</td>\n      <td>...</td>\n      <td>...</td>\n      <td>...</td>\n      <td>...</td>\n      <td>...</td>\n      <td>...</td>\n      <td>...</td>\n      <td>...</td>\n    </tr>\n    <tr>\n      <th>144</th>\n      <td>Lesotho</td>\n      <td>Sub-Saharan Africa</td>\n      <td>3.512</td>\n      <td>0.120</td>\n      <td>3.748</td>\n      <td>3.276</td>\n      <td>7.926</td>\n      <td>0.787</td>\n      <td>48.700</td>\n      <td>0.715</td>\n      <td>-0.131</td>\n      <td>0.915</td>\n      <td>2.43</td>\n      <td>0.451</td>\n      <td>0.731</td>\n      <td>0.007</td>\n      <td>0.405</td>\n      <td>0.103</td>\n      <td>0.015</td>\n      <td>1.800</td>\n    </tr>\n    <tr>\n      <th>145</th>\n      <td>Botswana</td>\n      <td>Sub-Saharan Africa</td>\n      <td>3.467</td>\n      <td>0.074</td>\n      <td>3.611</td>\n      <td>3.322</td>\n      <td>9.782</td>\n      <td>0.784</td>\n      <td>59.269</td>\n      <td>0.824</td>\n      <td>-0.246</td>\n      <td>0.801</td>\n      <td>2.43</td>\n      <td>1.099</td>\n      <td>0.724</td>\n      <td>0.340</td>\n      <td>0.539</td>\n      <td>0.027</td>\n      <td>0.088</td>\n      <td>0.648</td>\n    </tr>\n    <tr>\n      <th>146</th>\n      <td>Rwanda</td>\n      <td>Sub-Saharan Africa</td>\n      <td>3.415</td>\n      <td>0.068</td>\n      <td>3.548</td>\n      <td>3.282</td>\n      <td>7.676</td>\n      <td>0.552</td>\n      <td>61.400</td>\n      <td>0.897</td>\n      <td>0.061</td>\n      <td>0.167</td>\n      <td>2.43</td>\n      <td>0.364</td>\n      <td>0.202</td>\n      <td>0.407</td>\n      <td>0.627</td>\n      <td>0.227</td>\n      <td>0.493</td>\n      <td>1.095</td>\n    </tr>\n    <tr>\n      <th>147</th>\n      <td>Zimbabwe</td>\n      <td>Sub-Saharan Africa</td>\n      <td>3.145</td>\n      <td>0.058</td>\n      <td>3.259</td>\n      <td>3.030</td>\n      <td>7.943</td>\n      <td>0.750</td>\n      <td>56.201</td>\n      <td>0.677</td>\n      <td>-0.047</td>\n      <td>0.821</td>\n      <td>2.43</td>\n      <td>0.457</td>\n      <td>0.649</td>\n      <td>0.243</td>\n      <td>0.359</td>\n      <td>0.157</td>\n      <td>0.075</td>\n      <td>1.205</td>\n    </tr>\n    <tr>\n      <th>148</th>\n      <td>Afghanistan</td>\n      <td>South Asia</td>\n      <td>2.523</td>\n      <td>0.038</td>\n      <td>2.596</td>\n      <td>2.449</td>\n      <td>7.695</td>\n      <td>0.463</td>\n      <td>52.493</td>\n      <td>0.382</td>\n      <td>-0.102</td>\n      <td>0.924</td>\n      <td>2.43</td>\n      <td>0.370</td>\n      <td>0.000</td>\n      <td>0.126</td>\n      <td>0.000</td>\n      <td>0.122</td>\n      <td>0.010</td>\n      <td>1.895</td>\n    </tr>\n  </tbody>\n</table>\n<p>149 rows × 20 columns</p>\n</div>"
     },
     "execution_count": 219,
     "metadata": {},
     "output_type": "execute_result"
    }
   ],
   "source": [
    "# firstly, we need to analyze our dataset.\n",
    "# we will print overall dataset, shape, index, and columns\n",
    "\n",
    "report=pd.read_csv('world-happiness-report-2021.csv')\n",
    "report"
   ]
  },
  {
   "cell_type": "code",
   "execution_count": 220,
   "id": "efce3be9",
   "metadata": {},
   "outputs": [
    {
     "data": {
      "text/plain": "(149, 20)"
     },
     "execution_count": 220,
     "metadata": {},
     "output_type": "execute_result"
    }
   ],
   "source": [
    "report.shape #show shape of the array"
   ]
  },
  {
   "cell_type": "code",
   "execution_count": 221,
   "id": "76a7c2d2",
   "metadata": {},
   "outputs": [
    {
     "data": {
      "text/plain": "RangeIndex(start=0, stop=149, step=1)"
     },
     "execution_count": 221,
     "metadata": {},
     "output_type": "execute_result"
    }
   ],
   "source": [
    "report.index #show index"
   ]
  },
  {
   "cell_type": "code",
   "execution_count": 222,
   "id": "a0c40600",
   "metadata": {},
   "outputs": [
    {
     "data": {
      "text/plain": "Index(['Country name', 'Regional indicator', 'Ladder score',\n       'Standard error of ladder score', 'upperwhisker', 'lowerwhisker',\n       'Logged GDP per capita', 'Social support', 'Healthy life expectancy',\n       'Freedom to make life choices', 'Generosity',\n       'Perceptions of corruption', 'Ladder score in Dystopia',\n       'Explained by: Log GDP per capita', 'Explained by: Social support',\n       'Explained by: Healthy life expectancy',\n       'Explained by: Freedom to make life choices',\n       'Explained by: Generosity', 'Explained by: Perceptions of corruption',\n       'Dystopia + residual'],\n      dtype='object')"
     },
     "execution_count": 222,
     "metadata": {},
     "output_type": "execute_result"
    }
   ],
   "source": [
    "report.columns #show all column\n",
    "\n",
    "# knowing each columns' meaning is important. followings are the result of our analyzation of each key features\n",
    "# Ladder score is a same as happiness score\n",
    "# upperwhisker,lowerwhisker is happiness score's whisker\n",
    "# Logged GDP per capita means individual GDP level\n",
    "# Social Support means whether there is anyone who can help in times of difficulty\n",
    "# Healthy life expectancy means a healthy life period from birth\n",
    "# Freedom to make life choices means whether satisfy or not to freedom to choice\n",
    "# Generosity means whether donations were made last month.\n",
    "# Perceptions of corruption means whether businesses or governments are corrupted as a whole.\n",
    "# Dystopia+residual is how people feel bad about their future"
   ]
  },
  {
   "cell_type": "code",
   "execution_count": 223,
   "id": "c2c8913e",
   "metadata": {},
   "outputs": [
    {
     "data": {
      "text/plain": "Country name                                  0\nRegional indicator                            0\nLadder score                                  0\nStandard error of ladder score                0\nupperwhisker                                  0\nlowerwhisker                                  0\nLogged GDP per capita                         0\nSocial support                                0\nHealthy life expectancy                       0\nFreedom to make life choices                  0\nGenerosity                                    0\nPerceptions of corruption                     0\nLadder score in Dystopia                      0\nExplained by: Log GDP per capita              0\nExplained by: Social support                  0\nExplained by: Healthy life expectancy         0\nExplained by: Freedom to make life choices    0\nExplained by: Generosity                      0\nExplained by: Perceptions of corruption       0\nDystopia + residual                           0\ndtype: int64"
     },
     "execution_count": 223,
     "metadata": {},
     "output_type": "execute_result"
    }
   ],
   "source": [
    "# check missing values\n",
    "report.isna().sum()\n",
    "\n",
    "# it seems there's no any missing value in our dataset. so we don't have to deal with it."
   ]
  },
  {
   "cell_type": "code",
   "execution_count": 224,
   "id": "10c0980a",
   "metadata": {},
   "outputs": [
    {
     "data": {
      "text/plain": "149"
     },
     "execution_count": 224,
     "metadata": {},
     "output_type": "execute_result"
    }
   ],
   "source": [
    "# amount of contries\n",
    "# there's 149 countries in our dataset\n",
    "report['Country name'].size"
   ]
  },
  {
   "cell_type": "code",
   "execution_count": 225,
   "id": "1e3dfaf3",
   "metadata": {},
   "outputs": [
    {
     "name": "stderr",
     "output_type": "stream",
     "text": [
      "\n",
      "KeyboardInterrupt\n",
      "\n"
     ]
    },
    {
     "data": {
      "text/plain": "<Figure size 300x3000 with 10 Axes>",
      "image/png": "[encoded data removed]"
     },
     "metadata": {},
     "output_type": "display_data"
    }
   ],
   "source": [
    "# these are the Graphs between country of each region and ladder score\n",
    "# we can infer the correlation between region and ladder score\n",
    "g=sns.FacetGrid(report,col='Regional indicator',col_wrap=1)\n",
    "g.map(sns.scatterplot,'Country name','Ladder score')\n",
    "g.set(xticklabels=[])"
   ]
  },
  {
   "cell_type": "code",
   "execution_count": null,
   "id": "e11b7291",
   "metadata": {
    "scrolled": true
   },
   "outputs": [],
   "source": [
    "# The correlation between ladder score and Logged GDP per capita\n",
    "x=report.loc[:,'Ladder score']\n",
    "y=report.loc[:,'Logged GDP per capita']\n",
    "plt.scatter(x,y)\n",
    "plt.xlabel('Ladder score')\n",
    "plt.ylabel('Logged GDP per capita')\n",
    "plt.show()"
   ]
  },
  {
   "cell_type": "code",
   "execution_count": null,
   "id": "4faf5ae8",
   "metadata": {},
   "outputs": [],
   "source": [
    "# The correlation between ladder score and Sccial support\n",
    "x=report.loc[:,'Ladder score']\n",
    "y=report.loc[:,'Social support']\n",
    "plt.scatter(x,y)\n",
    "plt.xlabel('Ladder score')\n",
    "plt.ylabel('Social support')\n",
    "plt.show()"
   ]
  },
  {
   "cell_type": "code",
   "execution_count": null,
   "id": "f35d8719",
   "metadata": {},
   "outputs": [],
   "source": [
    "# The correlation between ladder score and Healthy life expectancy\n",
    "x=report.loc[:,'Ladder score']\n",
    "y=report.loc[:,'Healthy life expectancy']\n",
    "plt.scatter(x,y)\n",
    "plt.xlabel('Ladder score')\n",
    "plt.ylabel('Healthy life expectancy')\n",
    "plt.show()"
   ]
  },
  {
   "cell_type": "code",
   "execution_count": null,
   "id": "d494873a",
   "metadata": {},
   "outputs": [],
   "source": [
    "# The correlation between ladder score and Freedom to make life choices\n",
    "x=report.loc[:,'Ladder score']\n",
    "y=report.loc[:,'Freedom to make life choices']\n",
    "plt.scatter(x,y)\n",
    "plt.xlabel('Ladder score')\n",
    "plt.ylabel('Freedom to make life choices')\n",
    "plt.show()"
   ]
  },
  {
   "cell_type": "code",
   "execution_count": null,
   "id": "0aa925c2",
   "metadata": {},
   "outputs": [],
   "source": [
    "# The correlation between ladder score and Generosity\n",
    "x=report.loc[:,'Ladder score']\n",
    "y=report.loc[:,'Generosity']\n",
    "plt.scatter(x,y)\n",
    "plt.xlabel('Ladder score')\n",
    "plt.ylabel('Generosity')\n",
    "plt.show()"
   ]
  },
  {
   "cell_type": "code",
   "execution_count": null,
   "id": "33d8d427",
   "metadata": {},
   "outputs": [],
   "source": [
    "# The correlation between ladder score and Perception of corruption\n",
    "x=report.loc[:,'Ladder score']\n",
    "y=report.loc[:,'Perceptions of corruption']\n",
    "plt.scatter(x,y)\n",
    "plt.xlabel('Ladder score')\n",
    "plt.ylabel('Perceptions of corruption')\n",
    "plt.show()"
   ]
  },
  {
   "cell_type": "code",
   "execution_count": null,
   "id": "173ff4f9",
   "metadata": {
    "scrolled": true
   },
   "outputs": [],
   "source": [
    "# The correlation between ladder score and Dystopia+residual\n",
    "x=report.loc[:,'Ladder score']\n",
    "y=report.loc[:,'Dystopia + residual']\n",
    "plt.scatter(x,y)\n",
    "plt.xlabel('Ladder score')\n",
    "plt.ylabel('Dystopia + residual')\n",
    "plt.show()"
   ]
  },
  {
   "cell_type": "code",
   "execution_count": null,
   "id": "a2c7cfcc",
   "metadata": {
    "pycharm": {
     "name": "#%%\n"
    }
   },
   "outputs": [],
   "source": [
    "temp_report = report.drop(report.columns[3:6],axis='columns')"
   ]
  },
  {
   "cell_type": "code",
   "execution_count": null,
   "id": "43772472",
   "metadata": {
    "pycharm": {
     "name": "#%%\n"
    }
   },
   "outputs": [],
   "source": [
    "# in sum, the correlation is represented by this heatmap matrix\n",
    "dataset_x = report.iloc[:, 6:12]\n",
    "dataset_y = report.iloc[:, 2]\n",
    "\n",
    "\n",
    "corr_report = pd.concat([dataset_x, dataset_y], axis=1)\n",
    "corrmat = corr_report.corr()\n",
    "top_corr_features = corrmat.index\n",
    "plt.figure(figsize=(20,20))\n",
    "\n",
    "graph = sns.heatmap(corr_report[top_corr_features].corr(), annot=True,cmap=\"RdYlGn\")"
   ]
  },
  {
   "cell_type": "code",
   "execution_count": null,
   "id": "c639da6f",
   "metadata": {
    "pycharm": {
     "name": "#%%\n"
    }
   },
   "outputs": [],
   "source": [
    "# and this is correlation values derived by SeleckKBest.\n",
    "# there are redundant values named Explained. so we will drop this values later.\n",
    "\n",
    "X=temp_report.iloc[:,3:]\n",
    "y=temp_report.iloc[:,2]\n",
    "bestfeatures=SelectKBest(score_func=f_regression,k=14)\n",
    "fit=bestfeatures.fit(X,y)\n",
    "dfcolumns=pd.DataFrame(X.columns)\n",
    "dfscores=pd.DataFrame(fit.scores_)\n",
    "\n",
    "featureScores=pd.concat([dfcolumns, dfscores],axis=1)\n",
    "featureScores.columns =['Specs','Score']\n",
    "print(featureScores.nlargest(14,'Score'))"
   ]
  },
  {
   "cell_type": "code",
   "execution_count": null,
   "id": "ecbd3df9",
   "metadata": {
    "pycharm": {
     "name": "#%%\n"
    }
   },
   "outputs": [],
   "source": [
    "# by the above correlation heatmap matrix and SeleckKBest result,\n",
    "# we know that Logged GDP per capita, Social support, and Healthy life expectancy is highly related feature with the ladder score.\n",
    "# so, our decision is, select X value as the average value of three features is the best choice\n",
    "# and we must avoid including Generosity and Perceptions of corruption as they have negative value.\n",
    "\n",
    "mean = pd.DataFrame(data = report.iloc[:, 6:9].mean(axis='columns'), columns=['mean'])\n",
    "cluster_dataset = pd.concat([dataset_y,mean], axis=1)\n",
    "\n",
    "# case : cluster's number is 2.\n",
    "# this means the countries in the whole dataset will be distinguished with 2 groups : happy and unhappy\n",
    "KM = KMeans(n_clusters=2).fit(cluster_dataset)\n",
    "\n",
    "colors = []\n",
    "for i in KM.labels_:\n",
    "  if i == 0:\n",
    "    colors.append('skyblue')\n",
    "  elif i == 1:\n",
    "    colors.append('orange')\n",
    "\n",
    "plt.scatter(cluster_dataset['mean'], cluster_dataset['Ladder score'], c=colors)"
   ]
  },
  {
   "cell_type": "code",
   "execution_count": null,
   "id": "03ecdb07",
   "metadata": {
    "pycharm": {
     "name": "#%%\n"
    }
   },
   "outputs": [],
   "source": [
    "# Clustering Evaluation with Scikitlearn's Silhouette\n",
    "# The silhouette sample calculates and returns the silhouette coefficient for the corresponding data set when the parameter is passed as above.\n",
    "# Metric receives parameters to measure the distance between elements. The default is Euclidean\n",
    "# Sample_size is entered if sampling is applied in the score calculation, and set to None if sampling is not used. The default is None.\n",
    "# **kwds is a parameter used to pass the parameters required by some distance functions.\n",
    "\n",
    "silhouette_dataset = pd.DataFrame(data=report, columns=['Logged GDP per capita', 'Social support', 'Healthy life expectancy'\n",
    "                                                        , 'Freedom to make life choices'])\n",
    "\n",
    "silhouette_dataset['cluster'] = KM.labels_\n",
    "\n",
    "score_samples = silhouette_samples(silhouette_dataset, silhouette_dataset['cluster'])\n",
    "silhouette_dataset['silhoutte_coeff'] = score_samples\n",
    "\n",
    "average_score = silhouette_score(silhouette_dataset, silhouette_dataset['cluster'])\n",
    "\n",
    "# silhouette_score value will between the 0 and 1. and if score getting bigger, the better result comes up.\n",
    "# but the stability of each cluster's score is also important.\n",
    "# that is, if the variance of each cluster's score getting bigger, the result will be getting worse.\n",
    "\n",
    "print(\"average score\")\n",
    "print(average_score)\n",
    "print(silhouette_dataset.groupby('cluster')['silhoutte_coeff'].mean())"
   ]
  },
  {
   "cell_type": "code",
   "execution_count": null,
   "id": "8b3b3209",
   "metadata": {
    "pycharm": {
     "name": "#%%\n"
    }
   },
   "outputs": [],
   "source": [
    "# case :  cluster's number is 4.\n",
    "# this means the countries in the whole dataset will be distinguished with 4 groups : happy, not bad, not good, unhappy\n",
    "\n",
    "KM = KMeans(n_clusters=4).fit(cluster_dataset)\n",
    "\n",
    "colors = []\n",
    "for i in KM.labels_:\n",
    "  if i == 0:\n",
    "    colors.append('skyblue')\n",
    "  elif i == 1:\n",
    "    colors.append('orange')\n",
    "  elif i == 2:\n",
    "      colors.append('green')\n",
    "  elif i == 3:\n",
    "      colors.append('red')\n",
    "\n",
    "plt.scatter(cluster_dataset['mean'], cluster_dataset['Ladder score'], c=colors)\n",
    "plt.show()"
   ]
  },
  {
   "cell_type": "code",
   "execution_count": null,
   "id": "aec4364c",
   "metadata": {
    "pycharm": {
     "name": "#%%\n"
    }
   },
   "outputs": [],
   "source": [
    "silhouette_dataset4 = pd.DataFrame(data=report, columns=['Logged GDP per capita', 'Social support', 'Healthy life expectancy'\n",
    "                                                        , 'Freedom to make life choices'])\n",
    "\n",
    "silhouette_dataset4['cluster'] = KM.labels_\n",
    "\n",
    "score_samples = silhouette_samples(silhouette_dataset4, silhouette_dataset4['cluster'])\n",
    "silhouette_dataset4['silhoutte_coeff'] = score_samples\n",
    "\n",
    "average_score = silhouette_score(silhouette_dataset4, silhouette_dataset4['cluster'])\n",
    "print(\"average score\")\n",
    "print(average_score)\n",
    "print(silhouette_dataset4.groupby('cluster')['silhoutte_coeff'].mean())"
   ]
  },
  {
   "cell_type": "code",
   "execution_count": null,
   "id": "016aa28b",
   "metadata": {
    "pycharm": {
     "name": "#%%\n"
    }
   },
   "outputs": [],
   "source": [
    "# case : cluster's number is 3\n",
    "# this means the countries in the whole dataset will be distinguished with 3 groups : happy, normal, unhappy\n",
    "\n",
    "mean = pd.DataFrame(data = report.iloc[:, 6:9].mean(axis='columns'), columns=['mean'])\n",
    "cluster_dataset = pd.concat([dataset_y,mean], axis=1)\n",
    "\n",
    "KM = KMeans(n_clusters=3).fit(cluster_dataset)\n",
    "\n",
    "colors = []\n",
    "for i in KM.labels_:\n",
    "  if i == 0:\n",
    "    colors.append('skyblue')\n",
    "  elif i == 1:\n",
    "    colors.append('orange')\n",
    "  elif i == 2:\n",
    "    colors.append('green')\n",
    "\n",
    "plt.scatter(cluster_dataset['mean'], cluster_dataset['Ladder score'], c=colors)\n",
    "plt.show()"
   ]
  },
  {
   "cell_type": "code",
   "execution_count": null,
   "id": "b120a03a",
   "metadata": {
    "pycharm": {
     "name": "#%%\n"
    }
   },
   "outputs": [],
   "source": [
    "silhouette_dataset3 = pd.DataFrame(data=report, columns=['Logged GDP per capita', 'Social support', 'Healthy life expectancy'\n",
    "                                                        , 'Freedom to make life choices'])\n",
    "\n",
    "silhouette_dataset3['cluster'] = KM.labels_\n",
    "\n",
    "score_samples = silhouette_samples(silhouette_dataset3, silhouette_dataset3['cluster'])\n",
    "silhouette_dataset3['silhoutte_coeff'] = score_samples\n",
    "\n",
    "average_score = silhouette_score(silhouette_dataset3, silhouette_dataset3['cluster'])\n",
    "print(\"average score\")\n",
    "print(average_score)\n",
    "print(silhouette_dataset3.groupby('cluster')['silhoutte_coeff'].mean())"
   ]
  },
  {
   "cell_type": "code",
   "execution_count": null,
   "id": "51330e06",
   "metadata": {
    "pycharm": {
     "name": "#%%\n"
    }
   },
   "outputs": [],
   "source": [
    "# now we have the result of cluster score in each case of k = 2, 3, 4.\n",
    "# and with that result, the best k value is 2, because it has the highest score.\n",
    "# But if k becomes 2, the world is extremely divided into happy and unhappy groups.\n",
    "# this is not desirable situation. so we will additionally check elbow to decide proper k value.\n",
    "\n",
    "# Yellowbrick extends the Scikit-Learn API to make model selection and hyperparameter tuning easier. it’s using Matplotlib.\n",
    "from yellowbrick.cluster import KElbowVisualizer\n",
    "from sklearn .cluster import KMeans\n",
    "\n",
    "model = KMeans()\n",
    "# Visualizers are the core objects in Yellowbrick.\n",
    "# Visualizers can wrap a model estimator\n",
    "# https://www.scikit-yb.org/en/latest/\n",
    "\n",
    "df_GL = temp_report.iloc[:, 3:9]\n",
    "df_GL_mean = pd.DataFrame(data = df_GL.mean(axis='columns'), columns=['mean'])\n",
    "df_ladder_score = temp_report.loc[:, 'Ladder score']\n",
    "df = pd.concat([df_GL_mean, df_ladder_score], axis=1)\n",
    "\n",
    "#K-Elbow Plot : select k using the elbow method and various metrics\n",
    "visualizer = KElbowVisualizer(model, k=(1,10))\n",
    "visualizer.fit(df)"
   ]
  },
  {
   "cell_type": "code",
   "execution_count": null,
   "id": "f98b7c6f",
   "metadata": {
    "pycharm": {
     "name": "#%%\n"
    }
   },
   "outputs": [],
   "source": [
    "# it seems that cluster's number is proper when 3.\n",
    "# and with result of silhouette, when k=3, the deviations of each clusters is stable. (small)\n",
    "# so we decide to choose 3 as cluster's number\n",
    "\n",
    "# now we gonna save this clustered result to new data frame : clustered_report.\n",
    "df_cluster = pd.DataFrame(data = KM.labels_, columns=['cluster'])\n",
    "clustered_report = pd.DataFrame(data=report)\n",
    "clustered_report = pd.concat([clustered_report, df_cluster], axis=1)\n",
    "# dataset that includes cluster information\n",
    "clustered_report"
   ]
  },
  {
   "cell_type": "code",
   "execution_count": null,
   "outputs": [],
   "source": [
    "korea_cluster = clustered_report.loc[61]\n",
    "korea_cluster = korea_cluster.drop(['Standard error of ladder score', 'upperwhisker', 'lowerwhisker', 'Logged GDP per capita',\n",
    "                                    'Social support', 'Healthy life expectancy', 'Freedom to make life choices',\n",
    "                                    'Generosity', 'Perceptions of corruption', 'Ladder score in Dystopia',\n",
    "                                    'Explained by: Log GDP per capita', 'Explained by: Social support',\n",
    "                                    'Explained by: Healthy life expectancy', 'Explained by: Freedom to make life choices',\n",
    "                                    'Explained by: Generosity', 'Explained by: Perceptions of corruption', 'Dystopia + residual'])\n",
    "korea_cluster"
   ],
   "metadata": {
    "collapsed": false,
    "pycharm": {
     "name": "#%%\n"
    }
   }
  },
  {
   "cell_type": "code",
   "execution_count": null,
   "id": "97d443eb",
   "metadata": {
    "pycharm": {
     "name": "#%%\n"
    }
   },
   "outputs": [],
   "source": [
    "\n",
    "data = dict(type = 'choropleth',\n",
    "           locations = clustered_report['Country name'],\n",
    "           locationmode = 'country names',\n",
    "           z = clustered_report['cluster'],\n",
    "           text = clustered_report['Country name'],\n",
    "           colorbar = {'title':'cluster'})\n",
    "layout = dict(title = 'Happiness Index 2021',\n",
    "             geo = dict(showframe = False,\n",
    "                       projection = {'type': 'Mercator'}))\n",
    "choromap3 = go.Figure(data = [data])\n",
    "iplot(choromap3)\n"
   ]
  },
  {
   "cell_type": "code",
   "execution_count": null,
   "id": "9eac4a30",
   "metadata": {
    "pycharm": {
     "name": "#%%\n"
    }
   },
   "outputs": [],
   "source": [
    "# Showes that 17 countries in western Europe are in the top 30 happiest countries\n",
    "top30= report[:30]\n",
    "print(top30['Regional indicator'].value_counts())"
   ]
  },
  {
   "cell_type": "code",
   "execution_count": null,
   "id": "22f8705a",
   "metadata": {
    "pycharm": {
     "name": "#%%\n"
    }
   },
   "outputs": [],
   "source": [
    "# now we are going to drop \"Explained\" values\n",
    "new_report=report.drop(report.columns[3:6],axis='columns')\n",
    "new_report=new_report.drop(new_report.columns[9:16],axis='columns')\n",
    "new_report"
   ]
  },
  {
   "cell_type": "code",
   "execution_count": null,
   "id": "4019d2cd",
   "metadata": {
    "pycharm": {
     "name": "#%%\n"
    }
   },
   "outputs": [],
   "source": [
    "# and with the dataset without Explained data, we will check feature importances again by SelectKBest\n",
    "\n",
    "X=new_report.iloc[:,3:]\n",
    "y=new_report.iloc[:,2]\n",
    "bestfeatures=SelectKBest(score_func=f_regression,k=7)\n",
    "fit=bestfeatures.fit(X,y)\n",
    "dfcolumns=pd.DataFrame(X.columns)\n",
    "dfscores=pd.DataFrame(fit.scores_)\n",
    "\n",
    "featureScores=pd.concat([dfcolumns, dfscores],axis=1)\n",
    "featureScores.columns =['Specs','Score']\n",
    "print(featureScores.nlargest(7,'Score'))"
   ]
  },
  {
   "cell_type": "code",
   "execution_count": null,
   "id": "8ba6bd17",
   "metadata": {},
   "outputs": [],
   "source": [
    "# again, plot correlation with the heatmap matrix\n",
    "sns.set_theme(style=\"white\")\n",
    "ax = sns.heatmap(new_report[new_report.columns[3:-1]].corr()).set_title(\"All Countries\")\n"
   ]
  },
  {
   "cell_type": "code",
   "execution_count": null,
   "id": "6ab64d80",
   "metadata": {
    "scrolled": false
   },
   "outputs": [],
   "source": [
    "# update dataset by dropping Dystopia + residual column\n",
    "# Dystopia is an imaginary country that has the world's least-happy people.\n",
    "# The purpose in establishing Dystopia is to have a benchmark against which all countries can be favorably compared\n",
    "# The residuals, or unexplained components, differ for each country,\n",
    "# reflecting the extent to which the six variables either over- or under-explain average 2019-2021 life evaluations.\n",
    "new_report=new_report.drop(new_report.columns[9],axis='columns')\n",
    "new_report"
   ]
  },
  {
   "cell_type": "code",
   "execution_count": null,
   "outputs": [],
   "source": [
    "# 한국 비교 보여줄 plot 여기서 그려주기\n",
    "# mean = pd.DataFrame(data = report.iloc[:, 6:9].mean(axis='columns'), columns=['mean'])\n",
    "# cluster_dataset = pd.concat([dataset_y,mean], axis=1)\n",
    "\n",
    "world_mean = report.mean()\n",
    "korea = report.loc[61]\n",
    "\n",
    "compare_dataset = pd.concat([world_mean, korea], axis=1)\n",
    "cd1 = compare_dataset.iloc[4:10]\n",
    "cd1.columns = ['worldwide', 'korea']\n",
    "\n",
    "cd1 = cd1.drop(['Logged GDP per capita', 'Healthy life expectancy'])\n",
    "cd1.plot.bar()\n"
   ],
   "metadata": {
    "collapsed": false,
    "pycharm": {
     "name": "#%%\n"
    }
   }
  },
  {
   "cell_type": "code",
   "execution_count": null,
   "id": "40df29f5",
   "metadata": {},
   "outputs": [],
   "source": [
    "# now we have to prepare dataset for the linear regression.\n",
    "# first, we will apply get_dummies so that we prevent the unpredicted and unwanted co-relation between features\n",
    "df=pd.get_dummies(data=new_report, columns=['Regional indicator'])\n",
    "df"
   ]
  },
  {
   "cell_type": "code",
   "execution_count": null,
   "id": "780d4873",
   "metadata": {},
   "outputs": [],
   "source": [
    "# and then define X and y, which will be used in linear regression\n",
    "X=df.iloc[:,2:8]\n",
    "y=df.iloc[:,1]\n",
    "X=pd.DataFrame(X, columns = ['Logged GDP per capita','Social support','Healthy life expectancy','Freedom to make life choices','Generosity','Perceptions of corruption'])\n",
    "y=pd.DataFrame(y, columns=['Ladder score'])\n",
    "X"
   ]
  },
  {
   "cell_type": "code",
   "execution_count": null,
   "id": "41d4ed02",
   "metadata": {},
   "outputs": [],
   "source": [
    "# scaling the dataset before model fitting\n",
    "# we used StandardScaler\n",
    "\n",
    "scaler=StandardScaler()\n",
    "scaler.fit(X)\n",
    "X=scaler.transform(X)\n",
    "scaler.fit(y)\n",
    "y=scaler.transform(y)\n",
    "X=pd.DataFrame(X, columns = ['Logged GDP per capita','Social support','Healthy life expectancy','Freedom to make life choices','Generosity','Perceptions of corruption'])\n",
    "y=pd.DataFrame(y, columns=['Ladder score'])\n",
    "print(X)\n",
    "print(y)"
   ]
  },
  {
   "cell_type": "code",
   "execution_count": null,
   "id": "459a07ae",
   "metadata": {},
   "outputs": [],
   "source": [
    "# and we used sklearn's train test split\n",
    "train_X,test_X,train_y,test_y=train_test_split(X,y,test_size=0.2,random_state=23)"
   ]
  },
  {
   "cell_type": "code",
   "execution_count": null,
   "id": "36bfc1b8",
   "metadata": {},
   "outputs": [],
   "source": [
    "# defining linear regression model function\n",
    "# we have 1 parameter : test size so that we can easily test various test size with the same condition\n",
    "# firstly, we used all of the top 3 best scored in select K best.\n",
    "def multi_linRegression(testSize):\n",
    "\n",
    "    a=X.iloc[:,0:3]\n",
    "    b=report['Ladder score']\n",
    "    train_a,test_a,train_b,test_b=train_test_split(a,b,test_size=testSize,random_state=24)\n",
    "    #Multiple Linear Regression Model Using Top 3 features\n",
    "    lin = LinearRegression()\n",
    "    lin.fit(train_X, train_y) \n",
    "    predict = lin.predict(test_X)\n",
    "\n",
    "    #Evaluate the model\n",
    "    print('score: ', lin.score(test_X, test_y))\n",
    "    print('MSE: ',mean_squared_error(predict, test_y))\n",
    "    print('RMSE: ',mean_squared_error(predict, test_y)**1/2)\n",
    "        \n",
    "    #Cross Validation\n",
    "    from sklearn.model_selection import cross_val_score\n",
    "    k = 5\n",
    "    cv = cross_val_score(lin , train_a, train_b, cv = k)\n",
    "    print('Cross Validation Scores: ' , cv)\n",
    "    print('Cross Validation Average: ', np.mean(cv))"
   ]
  },
  {
   "cell_type": "code",
   "execution_count": null,
   "id": "25a9ed87",
   "metadata": {},
   "outputs": [],
   "source": [
    "# secondly, we used each of the three best scored in select K best.\n",
    "# 1. GDP only\n",
    "\n",
    "def GDP_linRegression(testSize):\n",
    "    a=X['Logged GDP per capita']\n",
    "    b=y['Ladder score']\n",
    "    from sklearn.model_selection import train_test_split\n",
    "    train_a,test_a,train_b,test_b=train_test_split(a,b,test_size=testSize,random_state=24)\n",
    "\n",
    "    plt.plot(train_a,train_b,'o')\n",
    "    plt.show()\n",
    "\n",
    "    line_fitter = LinearRegression()\n",
    "    line_fitter.fit(train_a.values.reshape(-1,1), train_b)\n",
    "    predict = line_fitter.predict(test_a.values.reshape(-1,1))\n",
    "\n",
    "    plt.plot(test_a, test_b, 'o')\n",
    "    plt.plot(test_a,line_fitter.predict(test_a.values.reshape(-1,1)))\n",
    "    plt.show()\n",
    "    #Evaluate the model\n",
    "    print('score: ', line_fitter.score(test_a.values.reshape(-1,1), test_b.values.reshape(-1,1)))\n",
    "    print('MSE: ',mean_squared_error(predict, test_b.values.reshape(-1,1)))\n",
    "    print('RMSE: ',mean_squared_error(predict, test_b.values.reshape(-1,1))**1/2)\n",
    "    \n",
    "      #Cross Validation\n",
    "    from sklearn.model_selection import cross_val_score\n",
    "    k = 5\n",
    "    cv = cross_val_score(line_fitter , train_a.values.reshape(-1,1), train_b, cv = k)\n",
    "    print('Cross Validation Scores: ' , cv)\n",
    "    print('Cross Validation Average: ', np.mean(cv))"
   ]
  },
  {
   "cell_type": "code",
   "execution_count": null,
   "id": "bb6acd8f",
   "metadata": {},
   "outputs": [],
   "source": [
    "# 2. Healthyness only\n",
    "def Healthy_linRegression(testSize) :\n",
    "    a=X['Healthy life expectancy']\n",
    "    b=y['Ladder score']\n",
    "    train_a,test_a,train_b,test_b=train_test_split(a,b,test_size=testSize,random_state=24)\n",
    "\n",
    "    plt.plot(train_a,train_b,'o')\n",
    "    plt.show()\n",
    "\n",
    "    line_fitter = LinearRegression()\n",
    "    line_fitter.fit(train_a.values.reshape(-1,1), train_b)\n",
    "    predict = line_fitter.predict(test_a.values.reshape(-1,1))\n",
    "\n",
    "    plt.plot(test_a, test_b, 'o')\n",
    "    plt.plot(test_a,line_fitter.predict(test_a.values.reshape(-1,1)))\n",
    "    plt.show()\n",
    "    #Evaluate the model\n",
    "    print('score: ', line_fitter.score(test_a.values.reshape(-1,1), test_b.values.reshape(-1,1)))\n",
    "    print('MSE: ',mean_squared_error(predict, test_b.values.reshape(-1,1)))\n",
    "    print('RMSE: ',mean_squared_error(predict, test_b.values.reshape(-1,1))**1/2)\n",
    "    \n",
    "    #Cross Validation\n",
    "    from sklearn.model_selection import cross_val_score\n",
    "    k = 5\n",
    "    cv = cross_val_score(line_fitter , train_a.values.reshape(-1,1), train_b, cv = k)\n",
    "    print('Cross Validation Scores: ' , cv)\n",
    "    print('Cross Validation Average: ', np.mean(cv))"
   ]
  },
  {
   "cell_type": "code",
   "execution_count": null,
   "id": "0c8a0d88",
   "metadata": {},
   "outputs": [],
   "source": [
    "# 3. Social support only\n",
    "\n",
    "def Social_linRegression(testSize) :\n",
    "    a=X['Social support']\n",
    "    b=report['Ladder score']\n",
    "    train_a,test_a,train_b,test_b=train_test_split(a,b,test_size=testSize,random_state=22)\n",
    "\n",
    "    plt.plot(train_a,train_b,'o')\n",
    "    plt.show()\n",
    "\n",
    "    line_fitter = LinearRegression()\n",
    "    line_fitter.fit(train_a.values.reshape(-1,1), train_b)\n",
    "    predict = line_fitter.predict(test_a.values.reshape(-1,1))\n",
    "\n",
    "    plt.plot(test_a, test_b, 'o')\n",
    "    plt.plot(test_a,line_fitter.predict(test_a.values.reshape(-1,1)))\n",
    "    plt.show()\n",
    "    #Evaluate the model\n",
    "    print('score: ', line_fitter.score(test_a.values.reshape(-1,1), test_b.values.reshape(-1,1)))\n",
    "    print('MSE: ',mean_squared_error(predict, test_b.values.reshape(-1,1)))\n",
    "    print('RMSE: ',mean_squared_error(predict, test_b.values.reshape(-1,1))**1/2)\n",
    "    \n",
    "      #Cross Validation\n",
    "    from sklearn.model_selection import cross_val_score\n",
    "    k = 5\n",
    "    cv = cross_val_score(line_fitter , train_a.values.reshape(-1,1), train_b, cv = k)\n",
    "    print('Cross Validation Scores: ' , cv)\n",
    "    print('Cross Validation Average: ', np.mean(cv))"
   ]
  },
  {
   "cell_type": "code",
   "execution_count": null,
   "id": "3187e2ca",
   "metadata": {},
   "outputs": [],
   "source": [
    "# now we will check the score of cases : test size 0.2, 0.3, 0.4\n",
    "\n",
    "print(\"test size 0.2\")\n",
    "print(multi_linRegression(0.2))\n",
    "print(\"test size 0.3\")\n",
    "print(multi_linRegression(0.3))\n",
    "print(\"test size 0.4\")\n",
    "print(multi_linRegression(0.4))"
   ]
  },
  {
   "cell_type": "code",
   "execution_count": null,
   "id": "306f3a47",
   "metadata": {},
   "outputs": [],
   "source": [
    "# GDP only with the test size 0.2\n",
    "GDP_linRegression(0.2)"
   ]
  },
  {
   "cell_type": "code",
   "execution_count": null,
   "outputs": [],
   "source": [
    "# GDP only with the test size 0.3\n",
    "GDP_linRegression(0.3)"
   ],
   "metadata": {
    "collapsed": false,
    "pycharm": {
     "name": "#%%\n"
    }
   }
  },
  {
   "cell_type": "code",
   "execution_count": null,
   "outputs": [],
   "source": [
    "# GDP only with the test size 0.4\n",
    "GDP_linRegression(0.4)"
   ],
   "metadata": {
    "collapsed": false,
    "pycharm": {
     "name": "#%%\n"
    }
   }
  },
  {
   "cell_type": "code",
   "execution_count": null,
   "id": "0e896f40",
   "metadata": {},
   "outputs": [],
   "source": [
    "# Healthy life expectancy only with the test size 0.2\n",
    "Healthy_linRegression(0.2)"
   ]
  },
  {
   "cell_type": "code",
   "execution_count": null,
   "outputs": [],
   "source": [
    "# Healthy life expectancy only with the test size 0.3\n",
    "Healthy_linRegression(0.3)"
   ],
   "metadata": {
    "collapsed": false,
    "pycharm": {
     "name": "#%%\n"
    }
   }
  },
  {
   "cell_type": "code",
   "execution_count": null,
   "outputs": [],
   "source": [
    "# Healthy life expectancy only with the test size 0.4\n",
    "Healthy_linRegression(0.4)"
   ],
   "metadata": {
    "collapsed": false,
    "pycharm": {
     "name": "#%%\n"
    }
   }
  },
  {
   "cell_type": "code",
   "execution_count": null,
   "id": "045bdb99",
   "metadata": {},
   "outputs": [],
   "source": [
    "# Social support only with the test size 0.2\n",
    "Social_linRegression(0.2)"
   ]
  },
  {
   "cell_type": "code",
   "execution_count": null,
   "outputs": [],
   "source": [
    "# Social support only with the test size 0.3\n",
    "Social_linRegression(0.3)"
   ],
   "metadata": {
    "collapsed": false,
    "pycharm": {
     "name": "#%%\n"
    }
   }
  },
  {
   "cell_type": "code",
   "execution_count": null,
   "outputs": [],
   "source": [
    "# Social support only with the test size 0.4\n",
    "Social_linRegression(0.4)"
   ],
   "metadata": {
    "collapsed": false,
    "pycharm": {
     "name": "#%%\n"
    }
   }
  },
  {
   "cell_type": "code",
   "execution_count": null,
   "id": "cf134be0",
   "metadata": {},
   "outputs": [],
   "source": [
    "# next, we will additionally apply decision tree and KNN algorithm for comparing and deciding best combination\n",
    "# Decision Tree : Using all atributes to get the target feature(Ladder Score)\n",
    "x_data=new_report.iloc[:,3:9]\n",
    "y_data=new_report.iloc[:,2]\n",
    "\n",
    "#normalization\n",
    "x = (x_data - np.min(x_data))/(np.max(x_data) - np.min(x_data)).values\n",
    "y = (y_data - np.min(y_data))/(np.max(y_data) - np.min(y_data))\n",
    "\n",
    "#split\n",
    "x_train, x_test, y_train, y_test = train_test_split(x,y, test_size=0.25, random_state=1)\n",
    "\n",
    "#Decision Tree Regression\n",
    "dt = DecisionTreeRegressor()\n",
    "dt.fit(x_train,y_train)"
   ]
  },
  {
   "cell_type": "code",
   "execution_count": null,
   "id": "21b2a5cf",
   "metadata": {
    "scrolled": true
   },
   "outputs": [],
   "source": [
    "#Plot Decision Tree\n",
    "\n",
    "fn=['Logged GDP per capita','Social support','Healthy life expectancy','Freedom to make life choices','Generosity','Perceptions of corruption']\n",
    "\n",
    "fig = plt.figure(figsize=(25,20))\n",
    "_ = tree.plot_tree(dt, \n",
    "                   feature_names=fn,fontsize=7,  \n",
    "                   filled=True)"
   ]
  },
  {
   "cell_type": "code",
   "execution_count": null,
   "id": "77e46516",
   "metadata": {},
   "outputs": [],
   "source": [
    "# printing accuracy of the above Decision Tree algorithm\n",
    "print(\"print accuracy of Decision Tree algorithm:\",dt.score(x_test,y_test))"
   ]
  },
  {
   "cell_type": "code",
   "execution_count": null,
   "id": "44fc9790",
   "metadata": {},
   "outputs": [],
   "source": [
    "# Using GridSearchCV for finding hyperparameter and get the best score\n",
    "\n",
    "grid = {'min_samples_leaf': np.arange(1,25),\"criterion\":[\"squared_error\",\"friedman_mse\",\"absolute_error\"]}\n",
    "det = DecisionTreeRegressor()\n",
    "det_cv = GridSearchCV(det, grid, cv=3)\n",
    "det_cv.fit(x_train,y_train)\n",
    "\n",
    "# Print hyperparameter and best score\n",
    "print(\"Tuned hyperparameter k: \", det_cv.best_params_) \n",
    "print(\"Best score: \", det_cv.best_score_)"
   ]
  },
  {
   "cell_type": "code",
   "execution_count": null,
   "id": "2995c9d3",
   "metadata": {},
   "outputs": [],
   "source": [
    "# and then we applied KNN algorithm.\n",
    "# we also used GridSearchCV for finding hyperparameter and best score\n",
    "\n",
    "#K nearest neighbors\n",
    "\n",
    "x_data=new_report.iloc[:,3:9]\n",
    "y_data=new_report.iloc[:,2]\n",
    "\n",
    "#normalization (min, max)\n",
    "x = (x_data - np.min(x_data))/(np.max(x_data) - np.min(x_data)).values\n",
    "y = (y_data - np.min(y_data))/(np.max(y_data) - np.min(y_data))\n",
    "\n",
    "#split\n",
    "x_train, x_test, y_train, y_test = train_test_split(x,y, test_size=0.25, random_state=3)\n",
    "\n",
    "\n",
    "\n",
    "#gridsearchCV for KNN model\n",
    "grid = {'n_neighbors': np.arange(1,50)}\n",
    "knn = KNeighborsRegressor()\n",
    "knn_cv = GridSearchCV(knn, grid, cv=5) # GridSearchCV\n",
    "knn_cv.fit(x_train,y_train)# Fit\n",
    "\n",
    "# Print hyperparameter\n",
    "print(\"Tuned hyperparameter k: \", knn_cv.best_params_)\n",
    "print(\"Best score: \", knn_cv.best_score_)"
   ]
  },
  {
   "cell_type": "code",
   "execution_count": null,
   "id": "8a5d92a3",
   "metadata": {},
   "outputs": [],
   "source": [
    "# the accuracy scores of the models are\n",
    "# linear regression :  0.7920702990046679 in the multi linear regression\n",
    "# decision tree : 0.6539056440684007 with hyperparameter\n",
    "# KNN algorithm : 0.7430195556471237 with hyperparameter\n",
    "\n",
    "# in sum, the highest score is 0.7920702990046679, derived by multi linear regression"
   ]
  },
  {
   "cell_type": "code",
   "execution_count": null,
   "outputs": [],
   "source": [
    "# function for linear regression. it requires train and test dataset.\n",
    "def linRegression(x_train, y_train, x_test, y_test):\n",
    "\n",
    "    lin = LinearRegression()\n",
    "    lin.fit(x_train, y_train)\n",
    "    predict = lin.predict(x_test)\n",
    "\n",
    "    #Evaluate the model\n",
    "    linear_score = lin.score(x_test, y_test)\n",
    "    print(\"Regression's score : \", linear_score)\n",
    "    return linear_score"
   ],
   "metadata": {
    "collapsed": false,
    "pycharm": {
     "name": "#%%\n"
    }
   }
  },
  {
   "cell_type": "code",
   "execution_count": null,
   "outputs": [],
   "source": [
    "# function for decision tree. it requires train dataset.\n",
    "def decision_tree(x_train, y_train) :\n",
    "    dt = DecisionTreeRegressor()\n",
    "    # Decision tree\n",
    "    grid = {'min_samples_leaf': np.arange(1,25),\"criterion\":[\"squared_error\",\"friedman_mse\",\"absolute_error\"]}\n",
    "    det_cv = GridSearchCV(dt, grid, cv=3)\n",
    "    det_cv.fit(x_train,y_train)\n",
    "\n",
    "    decision_tree_best = det_cv.best_score_\n",
    "    print(\"decision tree's score\", decision_tree_best)\n",
    "    return decision_tree_best"
   ],
   "metadata": {
    "collapsed": false,
    "pycharm": {
     "name": "#%%\n"
    }
   }
  },
  {
   "cell_type": "code",
   "execution_count": null,
   "outputs": [],
   "source": [
    "# function for KNN. it requires train dataset.\n",
    "def knn_(x_train, y_train) :\n",
    "    grid = {'n_neighbors': np.arange(1,50)}\n",
    "    knn = KNeighborsRegressor()\n",
    "    knn_cv = GridSearchCV(knn, grid, cv=5)\n",
    "    knn_cv.fit(x_train,y_train)\n",
    "    knn_best = knn_cv.best_score_\n",
    "    print(\"KNN algorithm's score\", knn_best)\n",
    "    return knn_best"
   ],
   "metadata": {
    "collapsed": false,
    "pycharm": {
     "name": "#%%\n"
    }
   }
  },
  {
   "cell_type": "code",
   "execution_count": 238,
   "outputs": [],
   "source": [
    "# function for calculaing the score and best combination. the combination means the kind of scaler, the amount of testsize, and the model\n",
    "# it requires dataset and test size.\n",
    "# if you have dataset, then you just put that in this function, and then the results will come out.\n",
    "def train_with_the_best (x_data, y_data, test_size) :\n",
    "    print(\" # test size : \", test_size)\n",
    "    scaler_list = [\"Standard scaler\", \"Robust scaler\", \"minmax scaler\"]\n",
    "    for i in scaler_list :\n",
    "        print(i, \" : \")\n",
    "        if(i == \"Standard scaler\") :\n",
    "            scaler=StandardScaler()\n",
    "            scaler.fit(x_data)\n",
    "            x=scaler.transform(x_data)\n",
    "            scaler.fit(y_data)\n",
    "            y=scaler.transform(y_data)\n",
    "            x_train, x_test, y_train, y_test = train_test_split(x,y, test_size=test_size, random_state=1)\n",
    "        elif(i == \"Robust scaler\") :\n",
    "            scaler = RobustScaler()\n",
    "            scaler.fit(x_data)\n",
    "            x = scaler.transform(x_data)\n",
    "            scaler.fit(y_data)\n",
    "            y = scaler.transform(y_data)\n",
    "            x_train, x_test, y_train, y_test = train_test_split(x,y, test_size=test_size, random_state=1)\n",
    "        elif(i == \"minmax scaler\") :\n",
    "            # scaler = minmax_scale()\n",
    "            # scaler.fit(x_data)\n",
    "            # x = scaler.transform(x_data)\n",
    "            # scaler.fit(y_data)\n",
    "            # y = scaler.transform(y_data)\n",
    "            x = minmax_scale(x_data)\n",
    "            y = minmax_scale(y_data)\n",
    "            x_train, x_test, y_train, y_test = train_test_split(x,y, test_size=test_size, random_state=1)\n",
    "        # decision_tree\n",
    "        dt_score = decision_tree(x_train, y_train)\n",
    "        # KNN\n",
    "        knn_score = knn_(x_train, y_train)\n",
    "        # Regression - Linear\n",
    "        regression_score = linRegression(x_train, y_train, x_test, y_test)\n",
    "    # print(\"Max value of this cycle is : \", max(value_list))\n",
    "    print(\"####################################################\")"
   ],
   "metadata": {
    "collapsed": false,
    "pycharm": {
     "name": "#%%\n"
    }
   }
  },
  {
   "cell_type": "code",
   "execution_count": 239,
   "outputs": [
    {
     "name": "stdout",
     "output_type": "stream",
     "text": [
      " # test size :  0.2\n",
      "Standard scaler  : \n",
      "decision tree's score 0.6431528562541795\n",
      "KNN algorithm's score 0.7348028624579787\n",
      "Regression's score :  0.5482360684583517\n",
      "Robust scaler  : \n",
      "decision tree's score 0.6431528562541795\n",
      "KNN algorithm's score 0.7218567261922286\n",
      "Regression's score :  0.5482360684583518\n",
      "minmax scaler  : \n",
      "decision tree's score 0.6431528562541795\n",
      "KNN algorithm's score 0.7452089414372041\n",
      "Regression's score :  0.5482360684583517\n",
      "####################################################\n",
      " # test size :  0.25\n",
      "Standard scaler  : \n",
      "decision tree's score 0.6539056440684006\n",
      "KNN algorithm's score 0.7493764618701702\n",
      "Regression's score :  0.5673502867054598\n",
      "Robust scaler  : \n",
      "decision tree's score 0.6539056440684007\n",
      "KNN algorithm's score 0.731564601986498\n",
      "Regression's score :  0.5673502867054596\n",
      "minmax scaler  : \n",
      "decision tree's score 0.6539056440684006\n",
      "KNN algorithm's score 0.75814361385503\n",
      "Regression's score :  0.5673502867054604\n",
      "####################################################\n",
      " # test size :  0.3\n",
      "Standard scaler  : \n",
      "decision tree's score 0.6074606861020978\n",
      "KNN algorithm's score 0.7148434425314403\n",
      "Regression's score :  0.6683353869020106\n",
      "Robust scaler  : \n",
      "decision tree's score 0.6157238296328411\n",
      "KNN algorithm's score 0.6921098102834954\n",
      "Regression's score :  0.6683353869020104\n",
      "minmax scaler  : \n",
      "decision tree's score 0.6085368887945714\n",
      "KNN algorithm's score 0.7231074178118575\n",
      "Regression's score :  0.6683353869020103\n",
      "####################################################\n",
      " # test size :  0.35\n",
      "Standard scaler  : \n",
      "decision tree's score 0.6266340907442123\n",
      "KNN algorithm's score 0.6919979634835103\n",
      "Regression's score :  0.6502928830105357\n",
      "Robust scaler  : \n",
      "decision tree's score 0.6266340907442123\n",
      "KNN algorithm's score 0.6738400129390827\n",
      "Regression's score :  0.6502928830105356\n",
      "minmax scaler  : \n",
      "decision tree's score 0.6266340907442123\n",
      "KNN algorithm's score 0.6939089103668421\n",
      "Regression's score :  0.6502928830105353\n",
      "####################################################\n"
     ]
    }
   ],
   "source": [
    "# prepare dataset\n",
    "x_data=new_report.iloc[:,3:9]\n",
    "y_data=new_report.iloc[:,2]\n",
    "y_data = np.array(y_data)\n",
    "b = y_data.reshape(-1,1)\n",
    "\n",
    "testSize = 0.2\n",
    "for i in range(0,4) :\n",
    "    train_with_the_best(x_data, b, testSize)\n",
    "    testSize += 0.05"
   ],
   "metadata": {
    "collapsed": false,
    "pycharm": {
     "name": "#%%\n"
    }
   }
  },
  {
   "cell_type": "code",
   "execution_count": null,
   "outputs": [],
   "source": [],
   "metadata": {
    "collapsed": false,
    "pycharm": {
     "name": "#%%\n"
    }
   }
  }
 ],
 "metadata": {
  "kernelspec": {
   "display_name": "Python 3 (ipykernel)",
   "language": "python",
   "name": "python3"
  },
  "language_info": {
   "codemirror_mode": {
    "name": "ipython",
    "version": 3
   },
   "file_extension": ".py",
   "mimetype": "text/x-python",
   "name": "python",
   "nbconvert_exporter": "python",
   "pygments_lexer": "ipython3",
   "version": "3.9.7"
  }
 },
 "nbformat": 4,
 "nbformat_minor": 5
}